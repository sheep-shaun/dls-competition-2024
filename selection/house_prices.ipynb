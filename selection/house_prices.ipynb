{
 "cells": [
  {
   "cell_type": "code",
   "execution_count": 1,
   "metadata": {},
   "outputs": [],
   "source": [
    "import numpy as np\n",
    "import pandas as pd\n",
    "\n",
    "from sklearn.model_selection import train_test_split, KFold\n",
    "from sklearn.metrics import mean_absolute_error\n",
    "\n",
    "import seaborn as sns\n",
    "\n",
    "from catboost import CatBoostRegressor"
   ]
  },
  {
   "cell_type": "code",
   "execution_count": 2,
   "metadata": {},
   "outputs": [
    {
     "data": {
      "text/html": [
       "<div>\n",
       "<style scoped>\n",
       "    .dataframe tbody tr th:only-of-type {\n",
       "        vertical-align: middle;\n",
       "    }\n",
       "\n",
       "    .dataframe tbody tr th {\n",
       "        vertical-align: top;\n",
       "    }\n",
       "\n",
       "    .dataframe thead th {\n",
       "        text-align: right;\n",
       "    }\n",
       "</style>\n",
       "<table border=\"1\" class=\"dataframe\">\n",
       "  <thead>\n",
       "    <tr style=\"text-align: right;\">\n",
       "      <th></th>\n",
       "      <th>author</th>\n",
       "      <th>author_type</th>\n",
       "      <th>location</th>\n",
       "      <th>deal_type</th>\n",
       "      <th>accommodation_type</th>\n",
       "      <th>floor</th>\n",
       "      <th>floors_count</th>\n",
       "      <th>rooms_count</th>\n",
       "      <th>total_meters</th>\n",
       "      <th>district</th>\n",
       "      <th>street</th>\n",
       "      <th>underground</th>\n",
       "      <th>residential_complex</th>\n",
       "      <th>price</th>\n",
       "    </tr>\n",
       "    <tr>\n",
       "      <th>id</th>\n",
       "      <th></th>\n",
       "      <th></th>\n",
       "      <th></th>\n",
       "      <th></th>\n",
       "      <th></th>\n",
       "      <th></th>\n",
       "      <th></th>\n",
       "      <th></th>\n",
       "      <th></th>\n",
       "      <th></th>\n",
       "      <th></th>\n",
       "      <th></th>\n",
       "      <th></th>\n",
       "      <th></th>\n",
       "    </tr>\n",
       "  </thead>\n",
       "  <tbody>\n",
       "    <tr>\n",
       "      <th>0</th>\n",
       "      <td>BARNES International Realty</td>\n",
       "      <td>real_estate_agent</td>\n",
       "      <td>Москва</td>\n",
       "      <td>sale</td>\n",
       "      <td>flat</td>\n",
       "      <td>3</td>\n",
       "      <td>7</td>\n",
       "      <td>4</td>\n",
       "      <td>118.00</td>\n",
       "      <td>Таганский</td>\n",
       "      <td>Серебрянический переулок</td>\n",
       "      <td>Китай-город</td>\n",
       "      <td>Титул на Серебрянической</td>\n",
       "      <td>104.500000</td>\n",
       "    </tr>\n",
       "    <tr>\n",
       "      <th>1</th>\n",
       "      <td>Гранит Инвест</td>\n",
       "      <td>real_estate_agent</td>\n",
       "      <td>Санкт-Петербург</td>\n",
       "      <td>sale</td>\n",
       "      <td>flat</td>\n",
       "      <td>6</td>\n",
       "      <td>14</td>\n",
       "      <td>2</td>\n",
       "      <td>55.90</td>\n",
       "      <td>Василеостровский</td>\n",
       "      <td>набережная Реки Смоленки</td>\n",
       "      <td>Приморская</td>\n",
       "      <td>Айно</td>\n",
       "      <td>15.204800</td>\n",
       "    </tr>\n",
       "    <tr>\n",
       "      <th>2</th>\n",
       "      <td>А101</td>\n",
       "      <td>developer</td>\n",
       "      <td>Москва</td>\n",
       "      <td>sale</td>\n",
       "      <td>flat</td>\n",
       "      <td>15</td>\n",
       "      <td>18</td>\n",
       "      <td>3</td>\n",
       "      <td>52.50</td>\n",
       "      <td>NaN</td>\n",
       "      <td>NaN</td>\n",
       "      <td>Прокшино</td>\n",
       "      <td>Прокшино ЖК</td>\n",
       "      <td>19.557878</td>\n",
       "    </tr>\n",
       "    <tr>\n",
       "      <th>3</th>\n",
       "      <td>Арсенал-Недвижимость</td>\n",
       "      <td>developer</td>\n",
       "      <td>Санкт-Петербург</td>\n",
       "      <td>sale</td>\n",
       "      <td>flat</td>\n",
       "      <td>2</td>\n",
       "      <td>12</td>\n",
       "      <td>1</td>\n",
       "      <td>53.48</td>\n",
       "      <td>Приморский</td>\n",
       "      <td>проспект Авиаконструкторов</td>\n",
       "      <td>Комендантский проспект</td>\n",
       "      <td>Modum</td>\n",
       "      <td>12.033000</td>\n",
       "    </tr>\n",
       "    <tr>\n",
       "      <th>4</th>\n",
       "      <td>Contact Real Estate</td>\n",
       "      <td>real_estate_agent</td>\n",
       "      <td>Москва</td>\n",
       "      <td>sale</td>\n",
       "      <td>flat</td>\n",
       "      <td>14</td>\n",
       "      <td>16</td>\n",
       "      <td>4</td>\n",
       "      <td>136.50</td>\n",
       "      <td>Пресненский</td>\n",
       "      <td>Костикова</td>\n",
       "      <td>Улица 1905 года</td>\n",
       "      <td>Lucky</td>\n",
       "      <td>175.000000</td>\n",
       "    </tr>\n",
       "    <tr>\n",
       "      <th>...</th>\n",
       "      <td>...</td>\n",
       "      <td>...</td>\n",
       "      <td>...</td>\n",
       "      <td>...</td>\n",
       "      <td>...</td>\n",
       "      <td>...</td>\n",
       "      <td>...</td>\n",
       "      <td>...</td>\n",
       "      <td>...</td>\n",
       "      <td>...</td>\n",
       "      <td>...</td>\n",
       "      <td>...</td>\n",
       "      <td>...</td>\n",
       "      <td>...</td>\n",
       "    </tr>\n",
       "    <tr>\n",
       "      <th>1221</th>\n",
       "      <td>Гранит Инвест</td>\n",
       "      <td>real_estate_agent</td>\n",
       "      <td>Санкт-Петербург</td>\n",
       "      <td>sale</td>\n",
       "      <td>flat</td>\n",
       "      <td>2</td>\n",
       "      <td>10</td>\n",
       "      <td>3</td>\n",
       "      <td>68.40</td>\n",
       "      <td>Петроградский</td>\n",
       "      <td>Аптекарский проспект</td>\n",
       "      <td>Петроградская</td>\n",
       "      <td>Skandi Klubb</td>\n",
       "      <td>25.650000</td>\n",
       "    </tr>\n",
       "    <tr>\n",
       "      <th>1222</th>\n",
       "      <td>IVA</td>\n",
       "      <td>real_estate_agent</td>\n",
       "      <td>Санкт-Петербург</td>\n",
       "      <td>sale</td>\n",
       "      <td>flat</td>\n",
       "      <td>12</td>\n",
       "      <td>24</td>\n",
       "      <td>2</td>\n",
       "      <td>70.70</td>\n",
       "      <td>Приморский</td>\n",
       "      <td>Парашютная</td>\n",
       "      <td>Комендантский проспект</td>\n",
       "      <td>UP-квартал Комендантский</td>\n",
       "      <td>11.390000</td>\n",
       "    </tr>\n",
       "    <tr>\n",
       "      <th>1223</th>\n",
       "      <td>Балтийская коммерция</td>\n",
       "      <td>developer</td>\n",
       "      <td>Санкт-Петербург</td>\n",
       "      <td>sale</td>\n",
       "      <td>flat</td>\n",
       "      <td>2</td>\n",
       "      <td>9</td>\n",
       "      <td>2</td>\n",
       "      <td>87.90</td>\n",
       "      <td>Петроградский</td>\n",
       "      <td>Малая Зеленина</td>\n",
       "      <td>Чкаловская</td>\n",
       "      <td>Квадрия</td>\n",
       "      <td>32.399940</td>\n",
       "    </tr>\n",
       "    <tr>\n",
       "      <th>1224</th>\n",
       "      <td>Point Estate Город</td>\n",
       "      <td>real_estate_agent</td>\n",
       "      <td>Москва</td>\n",
       "      <td>sale</td>\n",
       "      <td>flat</td>\n",
       "      <td>6</td>\n",
       "      <td>40</td>\n",
       "      <td>3</td>\n",
       "      <td>103.00</td>\n",
       "      <td>Обручевский</td>\n",
       "      <td>Профсоюзная</td>\n",
       "      <td>Новые Черёмушки</td>\n",
       "      <td>Дирижабль</td>\n",
       "      <td>59.500000</td>\n",
       "    </tr>\n",
       "    <tr>\n",
       "      <th>1225</th>\n",
       "      <td>Neva Towers</td>\n",
       "      <td>developer</td>\n",
       "      <td>Москва</td>\n",
       "      <td>sale</td>\n",
       "      <td>flat</td>\n",
       "      <td>65</td>\n",
       "      <td>66</td>\n",
       "      <td>2</td>\n",
       "      <td>60.40</td>\n",
       "      <td>Пресненский</td>\n",
       "      <td>1-й Красногвардейский проезд</td>\n",
       "      <td>Выставочная</td>\n",
       "      <td>NEVA TOWERS</td>\n",
       "      <td>66.500400</td>\n",
       "    </tr>\n",
       "  </tbody>\n",
       "</table>\n",
       "<p>1226 rows × 14 columns</p>\n",
       "</div>"
      ],
      "text/plain": [
       "                           author        author_type         location  \\\n",
       "id                                                                      \n",
       "0     BARNES International Realty  real_estate_agent           Москва   \n",
       "1                   Гранит Инвест  real_estate_agent  Санкт-Петербург   \n",
       "2                            А101          developer           Москва   \n",
       "3            Арсенал-Недвижимость          developer  Санкт-Петербург   \n",
       "4             Contact Real Estate  real_estate_agent           Москва   \n",
       "...                           ...                ...              ...   \n",
       "1221                Гранит Инвест  real_estate_agent  Санкт-Петербург   \n",
       "1222                          IVA  real_estate_agent  Санкт-Петербург   \n",
       "1223         Балтийская коммерция          developer  Санкт-Петербург   \n",
       "1224           Point Estate Город  real_estate_agent           Москва   \n",
       "1225                  Neva Towers          developer           Москва   \n",
       "\n",
       "     deal_type accommodation_type  floor  floors_count  rooms_count  \\\n",
       "id                                                                    \n",
       "0         sale               flat      3             7            4   \n",
       "1         sale               flat      6            14            2   \n",
       "2         sale               flat     15            18            3   \n",
       "3         sale               flat      2            12            1   \n",
       "4         sale               flat     14            16            4   \n",
       "...        ...                ...    ...           ...          ...   \n",
       "1221      sale               flat      2            10            3   \n",
       "1222      sale               flat     12            24            2   \n",
       "1223      sale               flat      2             9            2   \n",
       "1224      sale               flat      6            40            3   \n",
       "1225      sale               flat     65            66            2   \n",
       "\n",
       "      total_meters          district                        street  \\\n",
       "id                                                                   \n",
       "0           118.00         Таганский      Серебрянический переулок   \n",
       "1            55.90  Василеостровский      набережная Реки Смоленки   \n",
       "2            52.50               NaN                           NaN   \n",
       "3            53.48        Приморский    проспект Авиаконструкторов   \n",
       "4           136.50       Пресненский                     Костикова   \n",
       "...            ...               ...                           ...   \n",
       "1221         68.40     Петроградский          Аптекарский проспект   \n",
       "1222         70.70        Приморский                   Парашютная    \n",
       "1223         87.90     Петроградский                Малая Зеленина   \n",
       "1224        103.00       Обручевский                  Профсоюзная    \n",
       "1225         60.40       Пресненский  1-й Красногвардейский проезд   \n",
       "\n",
       "                 underground       residential_complex       price  \n",
       "id                                                                  \n",
       "0                Китай-город  Титул на Серебрянической  104.500000  \n",
       "1                 Приморская                      Айно   15.204800  \n",
       "2                   Прокшино               Прокшино ЖК   19.557878  \n",
       "3     Комендантский проспект                     Modum   12.033000  \n",
       "4            Улица 1905 года                     Lucky  175.000000  \n",
       "...                      ...                       ...         ...  \n",
       "1221           Петроградская              Skandi Klubb   25.650000  \n",
       "1222  Комендантский проспект  UP-квартал Комендантский   11.390000  \n",
       "1223              Чкаловская                   Квадрия   32.399940  \n",
       "1224         Новые Черёмушки                 Дирижабль   59.500000  \n",
       "1225             Выставочная               NEVA TOWERS   66.500400  \n",
       "\n",
       "[1226 rows x 14 columns]"
      ]
     },
     "execution_count": 2,
     "metadata": {},
     "output_type": "execute_result"
    }
   ],
   "source": [
    "data_path = \"./data/house_prices/house_price_train.csv\"\n",
    "data = pd.read_csv(data_path, index_col=\"id\")\n",
    "data"
   ]
  },
  {
   "cell_type": "code",
   "execution_count": 3,
   "metadata": {},
   "outputs": [],
   "source": [
    "test_path = \"./data/house_prices/house_price_test.csv\"\n",
    "test = pd.read_csv(test_path, index_col=\"id\")"
   ]
  },
  {
   "cell_type": "code",
   "execution_count": 4,
   "metadata": {},
   "outputs": [],
   "source": [
    "sample_submission_path = \"./data/house_prices/house_price_sample_submission.csv\"\n",
    "sample_submission = pd.read_csv(sample_submission_path, index_col=\"id\")"
   ]
  },
  {
   "cell_type": "code",
   "execution_count": 5,
   "metadata": {},
   "outputs": [],
   "source": [
    "data[\"district\"] = data[\"district\"].fillna(\"\")\n",
    "data[\"street\"] = data[\"street\"].fillna(\"\")\n",
    "data[\"underground\"] = data[\"underground\"].fillna(\"\")\n",
    "data[\"residential_complex\"] = data[\"residential_complex\"].fillna(\"\")"
   ]
  },
  {
   "cell_type": "code",
   "execution_count": 6,
   "metadata": {},
   "outputs": [
    {
     "data": {
      "text/plain": [
       "author                 False\n",
       "author_type            False\n",
       "location               False\n",
       "deal_type              False\n",
       "accommodation_type     False\n",
       "floor                  False\n",
       "floors_count           False\n",
       "rooms_count            False\n",
       "total_meters           False\n",
       "district               False\n",
       "street                 False\n",
       "underground            False\n",
       "residential_complex    False\n",
       "price                  False\n",
       "dtype: bool"
      ]
     },
     "execution_count": 6,
     "metadata": {},
     "output_type": "execute_result"
    }
   ],
   "source": [
    "data.isnull().any()"
   ]
  },
  {
   "cell_type": "code",
   "execution_count": 7,
   "metadata": {},
   "outputs": [],
   "source": [
    "data[\"floor/floors_count\"] = data[\"floor\"] / data[\"floors_count\"]\n",
    "data[\"total_meters/rooms_count\"] = data[\"total_meters\"] / data[\"rooms_count\"]"
   ]
  },
  {
   "cell_type": "code",
   "execution_count": 8,
   "metadata": {},
   "outputs": [],
   "source": [
    "test[\"district\"] = test[\"district\"].fillna(\"\")\n",
    "test[\"street\"] = test[\"street\"].fillna(\"\")\n",
    "test[\"underground\"] = test[\"underground\"].fillna(\"\")\n",
    "test[\"residential_complex\"] = test[\"residential_complex\"].fillna(\"\")\n",
    "\n",
    "test[\"floor/floors_count\"] = test[\"floor\"] / test[\"floors_count\"]\n",
    "test[\"total_meters/rooms_count\"] = test[\"total_meters\"] / test[\"rooms_count\"]"
   ]
  },
  {
   "cell_type": "code",
   "execution_count": 9,
   "metadata": {},
   "outputs": [],
   "source": [
    "y = data.pop(\"price\")\n",
    "X = data"
   ]
  },
  {
   "cell_type": "code",
   "execution_count": 10,
   "metadata": {},
   "outputs": [
    {
     "data": {
      "text/plain": [
       "<seaborn.axisgrid.FacetGrid at 0x7f4746a26950>"
      ]
     },
     "execution_count": 10,
     "metadata": {},
     "output_type": "execute_result"
    },
    {
     "data": {
      "image/png": "[encoded data removed]",
      "text/plain": [
       "<Figure size 500x500 with 1 Axes>"
      ]
     },
     "metadata": {},
     "output_type": "display_data"
    }
   ],
   "source": [
    "sns.displot(y)"
   ]
  },
  {
   "cell_type": "code",
   "execution_count": 11,
   "metadata": {},
   "outputs": [
    {
     "data": {
      "text/plain": [
       "<seaborn.axisgrid.FacetGrid at 0x7f47464c01d0>"
      ]
     },
     "execution_count": 11,
     "metadata": {},
     "output_type": "execute_result"
    },
    {
     "data": {
      "image/png": "[encoded data removed]",
      "text/plain": [
       "<Figure size 500x500 with 1 Axes>"
      ]
     },
     "metadata": {},
     "output_type": "display_data"
    }
   ],
   "source": [
    "sns.displot(np.log1p(y))"
   ]
  },
  {
   "cell_type": "code",
   "execution_count": 12,
   "metadata": {},
   "outputs": [],
   "source": [
    "y = np.log1p(y)"
   ]
  },
  {
   "cell_type": "code",
   "execution_count": 13,
   "metadata": {},
   "outputs": [
    {
     "data": {
      "text/plain": [
       "['author',\n",
       " 'author_type',\n",
       " 'location',\n",
       " 'deal_type',\n",
       " 'accommodation_type',\n",
       " 'district',\n",
       " 'street',\n",
       " 'underground',\n",
       " 'residential_complex']"
      ]
     },
     "execution_count": 13,
     "metadata": {},
     "output_type": "execute_result"
    }
   ],
   "source": [
    "cat_features = list()\n",
    "\n",
    "for col_name, dtype in data.dtypes.to_dict().items():\n",
    "    if dtype == \"object\":\n",
    "        cat_features.append(col_name)\n",
    "\n",
    "cat_features"
   ]
  },
  {
   "cell_type": "code",
   "execution_count": 14,
   "metadata": {},
   "outputs": [
    {
     "name": "stdout",
     "output_type": "stream",
     "text": [
      "0:\tlearn: 0.9162484\ttest: 0.9564411\tbest: 0.9564411 (0)\ttotal: 51ms\tremaining: 4m 15s\n",
      "500:\tlearn: 0.1387608\ttest: 0.2149168\tbest: 0.2149168 (500)\ttotal: 799ms\tremaining: 7.18s\n",
      "1000:\tlearn: 0.0867868\ttest: 0.2083379\tbest: 0.2083379 (1000)\ttotal: 1.55s\tremaining: 6.2s\n",
      "1500:\tlearn: 0.0593728\ttest: 0.2063708\tbest: 0.2062489 (1486)\ttotal: 2.33s\tremaining: 5.43s\n",
      "2000:\tlearn: 0.0422657\ttest: 0.2056471\tbest: 0.2054916 (1977)\ttotal: 3.11s\tremaining: 4.66s\n",
      "2500:\tlearn: 0.0316446\ttest: 0.2057555\tbest: 0.2053767 (2063)\ttotal: 3.9s\tremaining: 3.9s\n",
      "Stopped by overfitting detector  (500 iterations wait)\n",
      "\n",
      "bestTest = 0.2053767411\n",
      "bestIteration = 2063\n",
      "\n",
      "Shrink model to first 2064 iterations.\n",
      "0:\tlearn: 0.9097640\ttest: 0.9818311\tbest: 0.9818311 (0)\ttotal: 2.38ms\tremaining: 11.9s\n",
      "500:\tlearn: 0.1360208\ttest: 0.2465439\tbest: 0.2464539 (498)\ttotal: 777ms\tremaining: 6.98s\n",
      "1000:\tlearn: 0.0879211\ttest: 0.2368045\tbest: 0.2364677 (990)\ttotal: 1.55s\tremaining: 6.21s\n",
      "1500:\tlearn: 0.0604029\ttest: 0.2338401\tbest: 0.2338263 (1473)\ttotal: 2.34s\tremaining: 5.45s\n",
      "2000:\tlearn: 0.0442572\ttest: 0.2329076\tbest: 0.2325766 (1920)\ttotal: 3.13s\tremaining: 4.69s\n",
      "2500:\tlearn: 0.0326086\ttest: 0.2322673\tbest: 0.2321853 (2459)\ttotal: 3.93s\tremaining: 3.93s\n",
      "3000:\tlearn: 0.0253614\ttest: 0.2320753\tbest: 0.2319380 (2836)\ttotal: 4.73s\tremaining: 3.15s\n",
      "Stopped by overfitting detector  (500 iterations wait)\n",
      "\n",
      "bestTest = 0.2319379527\n",
      "bestIteration = 2836\n",
      "\n",
      "Shrink model to first 2837 iterations.\n",
      "0:\tlearn: 0.9388367\ttest: 0.8760781\tbest: 0.8760781 (0)\ttotal: 2.38ms\tremaining: 11.9s\n",
      "500:\tlearn: 0.1316299\ttest: 0.2310020\tbest: 0.2309497 (497)\ttotal: 790ms\tremaining: 7.09s\n",
      "1000:\tlearn: 0.0829822\ttest: 0.2215312\tbest: 0.2215312 (1000)\ttotal: 1.58s\tremaining: 6.3s\n",
      "1500:\tlearn: 0.0560552\ttest: 0.2176893\tbest: 0.2176550 (1492)\ttotal: 2.38s\tremaining: 5.55s\n",
      "2000:\tlearn: 0.0404020\ttest: 0.2165659\tbest: 0.2165659 (2000)\ttotal: 3.19s\tremaining: 4.77s\n",
      "2500:\tlearn: 0.0296122\ttest: 0.2158128\tbest: 0.2158109 (2499)\ttotal: 3.98s\tremaining: 3.98s\n",
      "3000:\tlearn: 0.0229296\ttest: 0.2151040\tbest: 0.2150993 (2919)\ttotal: 4.79s\tremaining: 3.19s\n",
      "Stopped by overfitting detector  (500 iterations wait)\n",
      "\n",
      "bestTest = 0.2150992772\n",
      "bestIteration = 2919\n",
      "\n",
      "Shrink model to first 2920 iterations.\n",
      "0:\tlearn: 0.9268241\ttest: 0.9175970\tbest: 0.9175970 (0)\ttotal: 2.15ms\tremaining: 10.8s\n",
      "500:\tlearn: 0.1358086\ttest: 0.2126131\tbest: 0.2126131 (500)\ttotal: 772ms\tremaining: 6.93s\n",
      "1000:\tlearn: 0.0863108\ttest: 0.2061585\tbest: 0.2055001 (955)\ttotal: 1.55s\tremaining: 6.18s\n",
      "1500:\tlearn: 0.0599354\ttest: 0.2048068\tbest: 0.2048045 (1499)\ttotal: 2.35s\tremaining: 5.47s\n",
      "2000:\tlearn: 0.0437499\ttest: 0.2048426\tbest: 0.2045508 (1931)\ttotal: 3.14s\tremaining: 4.71s\n",
      "2500:\tlearn: 0.0326115\ttest: 0.2046743\tbest: 0.2044916 (2172)\ttotal: 3.95s\tremaining: 3.95s\n",
      "Stopped by overfitting detector  (500 iterations wait)\n",
      "\n",
      "bestTest = 0.2044915947\n",
      "bestIteration = 2172\n",
      "\n",
      "Shrink model to first 2173 iterations.\n",
      "0:\tlearn: 0.9318298\ttest: 0.8988224\tbest: 0.8988224 (0)\ttotal: 2.44ms\tremaining: 12.2s\n",
      "500:\tlearn: 0.1383830\ttest: 0.2246747\tbest: 0.2244280 (464)\ttotal: 808ms\tremaining: 7.25s\n",
      "1000:\tlearn: 0.0882794\ttest: 0.2153653\tbest: 0.2152900 (998)\ttotal: 1.62s\tremaining: 6.47s\n",
      "1500:\tlearn: 0.0617844\ttest: 0.2134814\tbest: 0.2134778 (1498)\ttotal: 2.43s\tremaining: 5.66s\n",
      "2000:\tlearn: 0.0456147\ttest: 0.2130728\tbest: 0.2129841 (1986)\ttotal: 3.24s\tremaining: 4.85s\n",
      "2500:\tlearn: 0.0334654\ttest: 0.2126633\tbest: 0.2124339 (2337)\ttotal: 4.06s\tremaining: 4.06s\n",
      "3000:\tlearn: 0.0257217\ttest: 0.2123408\tbest: 0.2122688 (2960)\ttotal: 4.89s\tremaining: 3.26s\n",
      "3500:\tlearn: 0.0201994\ttest: 0.2120137\tbest: 0.2120013 (3493)\ttotal: 5.7s\tremaining: 2.44s\n",
      "4000:\tlearn: 0.0158685\ttest: 0.2121198\tbest: 0.2119563 (3887)\ttotal: 6.5s\tremaining: 1.62s\n",
      "Stopped by overfitting detector  (500 iterations wait)\n",
      "\n",
      "bestTest = 0.2119562529\n",
      "bestIteration = 3887\n",
      "\n",
      "Shrink model to first 3888 iterations.\n"
     ]
    },
    {
     "data": {
      "text/plain": [
       "22.310519236797084"
      ]
     },
     "execution_count": 14,
     "metadata": {},
     "output_type": "execute_result"
    }
   ],
   "source": [
    "n_splits = 5\n",
    "\n",
    "kf = KFold(n_splits=n_splits, shuffle=True, random_state=42)\n",
    "kf.get_n_splits(X, y)\n",
    "mae = 0\n",
    "\n",
    "for i, (train_index, val_index) in enumerate(kf.split(X, y)):\n",
    "    X_train = X.iloc[train_index]\n",
    "    y_train = y.iloc[train_index]\n",
    "    X_val = X.iloc[val_index]\n",
    "    y_val = y.iloc[val_index]\n",
    "\n",
    "    model = CatBoostRegressor(\n",
    "        iterations=5000,\n",
    "        cat_features=cat_features,\n",
    "        eval_metric=\"MAE\",\n",
    "        learning_rate=0.05,\n",
    "        verbose=500,\n",
    "        early_stopping_rounds=500,\n",
    "    )\n",
    "\n",
    "    model.fit(X_train, y_train, eval_set=(X_val, y_val))\n",
    "\n",
    "    preds = model.predict(X_val)\n",
    "    mae += mean_absolute_error(np.expm1(y_val), np.expm1(preds))\n",
    "\n",
    "    preds_test = model.predict(test)\n",
    "    preds_test = [max(np.expm1(pred), 2.805) for pred in preds_test]\n",
    "    sample_submission[\"price\"] += preds_test\n",
    "\n",
    "mae / n_splits"
   ]
  },
  {
   "cell_type": "code",
   "execution_count": 15,
   "metadata": {},
   "outputs": [
    {
     "data": {
      "text/plain": [
       "10.050528203520777"
      ]
     },
     "execution_count": 15,
     "metadata": {},
     "output_type": "execute_result"
    }
   ],
   "source": [
    "(60 - mae / n_splits) / 3.75"
   ]
  },
  {
   "cell_type": "code",
   "execution_count": 17,
   "metadata": {},
   "outputs": [],
   "source": [
    "sample_submission[\"price\"] /= n_splits"
   ]
  },
  {
   "cell_type": "code",
   "execution_count": 18,
   "metadata": {},
   "outputs": [],
   "source": [
    "save_path = \"./data/house_prices/submissions/sub_5.csv\"\n",
    "sample_submission.to_csv(save_path)"
   ]
  },
  {
   "cell_type": "code",
   "execution_count": null,
   "metadata": {},
   "outputs": [],
   "source": []
  }
 ],
 "metadata": {
  "kernelspec": {
   "display_name": ".venv",
   "language": "python",
   "name": "python3"
  },
  "language_info": {
   "codemirror_mode": {
    "name": "ipython",
    "version": 3
   },
   "file_extension": ".py",
   "mimetype": "text/x-python",
   "name": "python",
   "nbconvert_exporter": "python",
   "pygments_lexer": "ipython3",
   "version": "3.11.4"
  }
 },
 "nbformat": 4,
 "nbformat_minor": 2
}
