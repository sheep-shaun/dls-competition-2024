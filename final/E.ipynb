{
 "cells": [
  {
   "cell_type": "code",
   "execution_count": 1,
   "metadata": {},
   "outputs": [
    {
     "data": {
      "text/plain": [
       "device(type='cuda')"
      ]
     },
     "execution_count": 1,
     "metadata": {},
     "output_type": "execute_result"
    }
   ],
   "source": [
    "import pandas as pd\n",
    "import numpy as np\n",
    "\n",
    "import random\n",
    "\n",
    "import datetime\n",
    "\n",
    "from sklearn.model_selection import train_test_split, KFold\n",
    "from sklearn.metrics import mean_absolute_error\n",
    "from sklearn.decomposition import TruncatedSVD\n",
    "\n",
    "from catboost import CatBoostRegressor\n",
    "\n",
    "from transformers import AutoTokenizer, AutoModel\n",
    "from sentence_transformers import SentenceTransformer\n",
    "\n",
    "import torch\n",
    "from torch.utils.data import Dataset, DataLoader\n",
    "from torch import nn\n",
    "\n",
    "from tqdm import tqdm\n",
    "\n",
    "seed = 42\n",
    "np.random.seed(seed)\n",
    "torch.manual_seed(seed)\n",
    "torch.cuda.manual_seed(seed)\n",
    "random.seed(seed)\n",
    "\n",
    "device = torch.device(\"cuda\" if torch.cuda.is_available() else \"cpu\")\n",
    "device"
   ]
  },
  {
   "cell_type": "code",
   "execution_count": 2,
   "metadata": {},
   "outputs": [
    {
     "data": {
      "text/html": [
       "<div>\n",
       "<style scoped>\n",
       "    .dataframe tbody tr th:only-of-type {\n",
       "        vertical-align: middle;\n",
       "    }\n",
       "\n",
       "    .dataframe tbody tr th {\n",
       "        vertical-align: top;\n",
       "    }\n",
       "\n",
       "    .dataframe thead th {\n",
       "        text-align: right;\n",
       "    }\n",
       "</style>\n",
       "<table border=\"1\" class=\"dataframe\">\n",
       "  <thead>\n",
       "    <tr style=\"text-align: right;\">\n",
       "      <th></th>\n",
       "      <th>Channel</th>\n",
       "      <th>Subtitles</th>\n",
       "      <th>PublishDate</th>\n",
       "      <th>Category</th>\n",
       "      <th>ViewCount</th>\n",
       "    </tr>\n",
       "    <tr>\n",
       "      <th>id</th>\n",
       "      <th></th>\n",
       "      <th></th>\n",
       "      <th></th>\n",
       "      <th></th>\n",
       "      <th></th>\n",
       "    </tr>\n",
       "  </thead>\n",
       "  <tbody>\n",
       "    <tr>\n",
       "      <th>0</th>\n",
       "      <td>toplesofficial</td>\n",
       "      <td>('Я миллениал и я не занимаюсь сексом так част...</td>\n",
       "      <td>2017-12-31T01:35:44-08:00</td>\n",
       "      <td>Education</td>\n",
       "      <td>3019</td>\n",
       "    </tr>\n",
       "    <tr>\n",
       "      <th>1</th>\n",
       "      <td>postnauka</td>\n",
       "      <td>(\"сервитуты это одно из прямых наследие римско...</td>\n",
       "      <td>2014-09-04T08:24:47-07:00</td>\n",
       "      <td>Science &amp; Technology</td>\n",
       "      <td>25</td>\n",
       "    </tr>\n",
       "    <tr>\n",
       "      <th>2</th>\n",
       "      <td>NaukaPRO</td>\n",
       "      <td>('[музыка] существуют сенсоры измеряющие магни...</td>\n",
       "      <td>2023-11-23T21:00:08-08:00</td>\n",
       "      <td>Science &amp; Technology</td>\n",
       "      <td>7</td>\n",
       "    </tr>\n",
       "    <tr>\n",
       "      <th>3</th>\n",
       "      <td>postnauka</td>\n",
       "      <td>('в наше время только ленивые не говорит о том...</td>\n",
       "      <td>2014-06-23T03:49:31-07:00</td>\n",
       "      <td>Science &amp; Technology</td>\n",
       "      <td>5</td>\n",
       "    </tr>\n",
       "    <tr>\n",
       "      <th>4</th>\n",
       "      <td>user-rb8ux1no6j</td>\n",
       "      <td>('дорогие друзья это честный рекламный ролик н...</td>\n",
       "      <td>2020-10-09T01:30:04-07:00</td>\n",
       "      <td>Education</td>\n",
       "      <td>10</td>\n",
       "    </tr>\n",
       "  </tbody>\n",
       "</table>\n",
       "</div>"
      ],
      "text/plain": [
       "            Channel                                          Subtitles  \\\n",
       "id                                                                       \n",
       "0    toplesofficial  ('Я миллениал и я не занимаюсь сексом так част...   \n",
       "1         postnauka  (\"сервитуты это одно из прямых наследие римско...   \n",
       "2          NaukaPRO  ('[музыка] существуют сенсоры измеряющие магни...   \n",
       "3         postnauka  ('в наше время только ленивые не говорит о том...   \n",
       "4   user-rb8ux1no6j  ('дорогие друзья это честный рекламный ролик н...   \n",
       "\n",
       "                  PublishDate              Category  ViewCount  \n",
       "id                                                              \n",
       "0   2017-12-31T01:35:44-08:00             Education       3019  \n",
       "1   2014-09-04T08:24:47-07:00  Science & Technology         25  \n",
       "2   2023-11-23T21:00:08-08:00  Science & Technology          7  \n",
       "3   2014-06-23T03:49:31-07:00  Science & Technology          5  \n",
       "4   2020-10-09T01:30:04-07:00             Education         10  "
      ]
     },
     "execution_count": 2,
     "metadata": {},
     "output_type": "execute_result"
    }
   ],
   "source": [
    "df = pd.read_csv(\"./data/youtube/youtube_train.csv\", index_col=\"id\")\n",
    "df_test = pd.read_csv(\"./data/youtube/youtube_test.csv\", index_col=\"id\")\n",
    "df.head()"
   ]
  },
  {
   "cell_type": "code",
   "execution_count": 3,
   "metadata": {},
   "outputs": [],
   "source": [
    "min_date = pd.to_datetime(datetime.datetime.strptime('01012010', \"%d%m%Y\").date())\n",
    "df[\"PublishDate\"] = df[\"PublishDate\"].apply(lambda x: datetime.datetime.strptime(x[:-6], \"%Y-%m-%dT%H:%M:%S\"))\n",
    "df[\"PublishDateDays\"] = (df[\"PublishDate\"] - min_date).dt.days\n",
    "df[\"PublishDateYear\"] = df[\"PublishDate\"].dt.year\n",
    "df[\"PublishDateMonth\"] = df[\"PublishDate\"].dt.month\n",
    "df[\"PublishDateDay\"] = df[\"PublishDate\"].dt.day\n",
    "df[\"PublishDateDay\"] = df[\"PublishDate\"].dt.day_of_week\n",
    "df[\"PublishDateDay\"] = df[\"PublishDate\"].dt.day_of_year"
   ]
  },
  {
   "cell_type": "code",
   "execution_count": 4,
   "metadata": {},
   "outputs": [],
   "source": [
    "df_test[\"PublishDate\"] = df_test[\"PublishDate\"].apply(lambda x: datetime.datetime.strptime(x[:-6], \"%Y-%m-%dT%H:%M:%S\"))\n",
    "df_test[\"PublishDateDays\"] = (df_test[\"PublishDate\"] - min_date).dt.days\n",
    "df_test[\"PublishDateYear\"] = df_test[\"PublishDate\"].dt.year\n",
    "df_test[\"PublishDateMonth\"] = df_test[\"PublishDate\"].dt.month\n",
    "df_test[\"PublishDateDay\"] = df_test[\"PublishDate\"].dt.day\n",
    "df_test[\"PublishDateDay\"] = df_test[\"PublishDate\"].dt.day_of_week\n",
    "df_test[\"PublishDateDay\"] = df_test[\"PublishDate\"].dt.day_of_year"
   ]
  },
  {
   "cell_type": "code",
   "execution_count": 5,
   "metadata": {},
   "outputs": [],
   "source": [
    "X = df.drop(columns=[\"ViewCount\", \"Subtitles\"])\n",
    "y = df[\"ViewCount\"]\n",
    "\n",
    "# X_train, X_val, y_train, y_val = train_test_split(X, y, test_size=0.2, random_state=seed)\n",
    "# X_train = X_train.reset_index()\n",
    "# X_val = X_val.reset_index()"
   ]
  },
  {
   "cell_type": "code",
   "execution_count": 6,
   "metadata": {},
   "outputs": [],
   "source": [
    "X_test = df_test.drop(columns=[\"Subtitles\"])"
   ]
  },
  {
   "cell_type": "code",
   "execution_count": null,
   "metadata": {},
   "outputs": [],
   "source": []
  },
  {
   "cell_type": "code",
   "execution_count": 7,
   "metadata": {},
   "outputs": [],
   "source": [
    "model = SentenceTransformer(\"BAAI/bge-m3\", device=device)"
   ]
  },
  {
   "cell_type": "code",
   "execution_count": 8,
   "metadata": {},
   "outputs": [],
   "source": [
    "model.max_seq_length = 512"
   ]
  },
  {
   "cell_type": "code",
   "execution_count": 9,
   "metadata": {},
   "outputs": [
    {
     "data": {
      "application/vnd.jupyter.widget-view+json": {
       "model_id": "689d83ccdfe74a129d8dbc51fe325d1d",
       "version_major": 2,
       "version_minor": 0
      },
      "text/plain": [
       "Batches:   0%|          | 0/732 [00:00<?, ?it/s]"
      ]
     },
     "metadata": {},
     "output_type": "display_data"
    },
    {
     "data": {
      "application/vnd.jupyter.widget-view+json": {
       "model_id": "a0c501279b8f4cde8f16ab303306c3ca",
       "version_major": 2,
       "version_minor": 0
      },
      "text/plain": [
       "Batches:   0%|          | 0/250 [00:00<?, ?it/s]"
      ]
     },
     "metadata": {},
     "output_type": "display_data"
    }
   ],
   "source": [
    "embs = model.encode(X[\"Subtitles\"].tolist(), batch_size=8, show_progress_bar=True, normalize_embeddings=True, device=device)\n",
    "# embs_val = model.encode(X_val[\"Subtitles\"].tolist(), batch_size=8, show_progress_bar=True, normalize_embeddings=True, device=device)\n",
    "embs_test = model.encode(X_test[\"Subtitles\"].tolist(), batch_size=8, show_progress_bar=True, normalize_embeddings=True, device=device)"
   ]
  },
  {
   "cell_type": "code",
   "execution_count": 10,
   "metadata": {},
   "outputs": [],
   "source": [
    "n_components = 16\n",
    "svd = TruncatedSVD(n_components=n_components, random_state=seed)\n",
    "svd.fit(embs.tolist())\n",
    "embs_svd = svd.transform(embs.tolist())\n",
    "embs_test_svd = svd.transform(embs_test.tolist())"
   ]
  },
  {
   "cell_type": "code",
   "execution_count": 11,
   "metadata": {},
   "outputs": [],
   "source": [
    "X = pd.concat([X, pd.DataFrame(embs_svd.tolist(), columns=[f\"emb_{i}\" for i in range(n_components)])], axis=1)\n",
    "X_test = pd.concat([X_test, pd.DataFrame(embs_test_svd.tolist(), columns=[f\"emb_{i}\" for i in range(n_components)], index=X_test.index)], axis=1)"
   ]
  },
  {
   "cell_type": "code",
   "execution_count": null,
   "metadata": {},
   "outputs": [],
   "source": []
  },
  {
   "cell_type": "code",
   "execution_count": 7,
   "metadata": {},
   "outputs": [
    {
     "data": {
      "text/plain": [
       "['Channel', 'Category']"
      ]
     },
     "execution_count": 7,
     "metadata": {},
     "output_type": "execute_result"
    }
   ],
   "source": [
    "cat_features = list()\n",
    "\n",
    "for col_name, dtype in X.dtypes.to_dict().items():\n",
    "    if dtype == \"object\" and col_name != \"Subtitles\":\n",
    "        cat_features.append(col_name)\n",
    "\n",
    "cat_features"
   ]
  },
  {
   "cell_type": "code",
   "execution_count": 8,
   "metadata": {},
   "outputs": [
    {
     "name": "stderr",
     "output_type": "stream",
     "text": [
      "0it [00:00, ?it/s]"
     ]
    },
    {
     "name": "stdout",
     "output_type": "stream",
     "text": [
      "=== FOLD 1 ===\n",
      "0:\tlearn: 468.6390245\ttest: 380.0739796\tbest: 380.0739796 (0)\ttotal: 50.7ms\tremaining: 1m 16s\n",
      "250:\tlearn: 174.0726355\ttest: 193.9261651\tbest: 193.3972115 (244)\ttotal: 397ms\tremaining: 1.97s\n"
     ]
    },
    {
     "name": "stderr",
     "output_type": "stream",
     "text": [
      "1it [00:00,  1.21it/s]"
     ]
    },
    {
     "name": "stdout",
     "output_type": "stream",
     "text": [
      "Stopped by overfitting detector  (200 iterations wait)\n",
      "\n",
      "bestTest = 192.8422942\n",
      "bestIteration = 282\n",
      "\n",
      "Shrink model to first 283 iterations.\n",
      "=== FOLD 2 ===\n",
      "0:\tlearn: 475.3306644\ttest: 366.8837654\tbest: 366.8837654 (0)\ttotal: 2.01ms\tremaining: 3.01s\n"
     ]
    },
    {
     "name": "stderr",
     "output_type": "stream",
     "text": [
      "2it [00:01,  1.72it/s]"
     ]
    },
    {
     "name": "stdout",
     "output_type": "stream",
     "text": [
      "250:\tlearn: 161.9682999\ttest: 131.4388794\tbest: 114.8612242 (55)\ttotal: 349ms\tremaining: 1.74s\n",
      "Stopped by overfitting detector  (200 iterations wait)\n",
      "\n",
      "bestTest = 114.8612242\n",
      "bestIteration = 55\n",
      "\n",
      "Shrink model to first 56 iterations.\n",
      "=== FOLD 3 ===\n",
      "0:\tlearn: 470.1147460\ttest: 382.4119324\tbest: 382.4119324 (0)\ttotal: 1.11ms\tremaining: 1.66s\n",
      "250:\tlearn: 163.2113117\ttest: 157.5185851\tbest: 156.5071552 (237)\ttotal: 350ms\tremaining: 1.74s\n",
      "500:\tlearn: 145.7010298\ttest: 153.4982905\tbest: 153.0260346 (466)\ttotal: 708ms\tremaining: 1.41s\n"
     ]
    },
    {
     "name": "stderr",
     "output_type": "stream",
     "text": [
      "3it [00:02,  1.21it/s]"
     ]
    },
    {
     "name": "stdout",
     "output_type": "stream",
     "text": [
      "Stopped by overfitting detector  (200 iterations wait)\n",
      "\n",
      "bestTest = 151.127649\n",
      "bestIteration = 526\n",
      "\n",
      "Shrink model to first 527 iterations.\n",
      "=== FOLD 4 ===\n",
      "0:\tlearn: 464.0634611\ttest: 658.8645798\tbest: 658.8645798 (0)\ttotal: 2.04ms\tremaining: 3.06s\n"
     ]
    },
    {
     "name": "stderr",
     "output_type": "stream",
     "text": [
      "4it [00:02,  1.38it/s]"
     ]
    },
    {
     "name": "stdout",
     "output_type": "stream",
     "text": [
      "250:\tlearn: 159.2600123\ttest: 317.1951742\tbest: 312.3683638 (165)\ttotal: 342ms\tremaining: 1.7s\n",
      "Stopped by overfitting detector  (200 iterations wait)\n",
      "\n",
      "bestTest = 312.3683638\n",
      "bestIteration = 165\n",
      "\n",
      "Shrink model to first 166 iterations.\n",
      "=== FOLD 5 ===\n",
      "0:\tlearn: 468.7854281\ttest: 424.1289808\tbest: 424.1289808 (0)\ttotal: 1.56ms\tremaining: 2.34s\n"
     ]
    },
    {
     "name": "stderr",
     "output_type": "stream",
     "text": [
      "5it [00:03,  1.56it/s]"
     ]
    },
    {
     "name": "stdout",
     "output_type": "stream",
     "text": [
      "250:\tlearn: 160.8109400\ttest: 246.0916072\tbest: 152.0216444 (77)\ttotal: 396ms\tremaining: 1.97s\n",
      "Stopped by overfitting detector  (200 iterations wait)\n",
      "\n",
      "bestTest = 152.0216444\n",
      "bestIteration = 77\n",
      "\n",
      "Shrink model to first 78 iterations.\n",
      "=== FOLD 6 ===\n",
      "0:\tlearn: 468.9192355\ttest: 397.1418813\tbest: 397.1418813 (0)\ttotal: 1.63ms\tremaining: 2.44s\n",
      "250:\tlearn: 169.2877676\ttest: 167.6057402\tbest: 167.6057402 (250)\ttotal: 352ms\tremaining: 1.75s\n",
      "500:\tlearn: 146.8686308\ttest: 156.2639404\tbest: 154.8294482 (479)\ttotal: 711ms\tremaining: 1.42s\n",
      "750:\tlearn: 135.0666178\ttest: 155.1142160\tbest: 152.5288523 (669)\ttotal: 1.07s\tremaining: 1.07s\n",
      "Stopped by overfitting detector  (200 iterations wait)\n",
      "\n",
      "bestTest = 152.5288523\n",
      "bestIteration = 669\n",
      "\n",
      "Shrink model to first 670 iterations.\n"
     ]
    },
    {
     "name": "stderr",
     "output_type": "stream",
     "text": [
      "6it [00:04,  1.14it/s]"
     ]
    },
    {
     "name": "stdout",
     "output_type": "stream",
     "text": [
      "=== FOLD 7 ===\n",
      "0:\tlearn: 463.9798812\ttest: 552.8467759\tbest: 552.8467759 (0)\ttotal: 1.68ms\tremaining: 2.51s\n",
      "250:\tlearn: 155.9347163\ttest: 223.4918999\tbest: 213.1961737 (178)\ttotal: 347ms\tremaining: 1.73s\n"
     ]
    },
    {
     "name": "stderr",
     "output_type": "stream",
     "text": [
      "7it [00:05,  1.26it/s]"
     ]
    },
    {
     "name": "stdout",
     "output_type": "stream",
     "text": [
      "Stopped by overfitting detector  (200 iterations wait)\n",
      "\n",
      "bestTest = 213.1961737\n",
      "bestIteration = 178\n",
      "\n",
      "Shrink model to first 179 iterations.\n",
      "=== FOLD 8 ===\n",
      "0:\tlearn: 475.5278457\ttest: 348.8444053\tbest: 348.8444053 (0)\ttotal: 1.78ms\tremaining: 2.67s\n"
     ]
    },
    {
     "name": "stderr",
     "output_type": "stream",
     "text": [
      "8it [00:05,  1.53it/s]"
     ]
    },
    {
     "name": "stdout",
     "output_type": "stream",
     "text": [
      "Stopped by overfitting detector  (200 iterations wait)\n",
      "\n",
      "bestTest = 168.0451614\n",
      "bestIteration = 25\n",
      "\n",
      "Shrink model to first 26 iterations.\n",
      "=== FOLD 9 ===\n",
      "0:\tlearn: 469.8239951\ttest: 335.4833429\tbest: 335.4833429 (0)\ttotal: 1.52ms\tremaining: 2.27s\n"
     ]
    },
    {
     "name": "stderr",
     "output_type": "stream",
     "text": [
      "9it [00:06,  1.73it/s]"
     ]
    },
    {
     "name": "stdout",
     "output_type": "stream",
     "text": [
      "Stopped by overfitting detector  (200 iterations wait)\n",
      "\n",
      "bestTest = 191.6620555\n",
      "bestIteration = 41\n",
      "\n",
      "Shrink model to first 42 iterations.\n",
      "=== FOLD 10 ===\n",
      "0:\tlearn: 466.6857254\ttest: 507.5759671\tbest: 507.5759671 (0)\ttotal: 1.67ms\tremaining: 2.5s\n"
     ]
    },
    {
     "name": "stderr",
     "output_type": "stream",
     "text": [
      "10it [00:06,  1.86it/s]"
     ]
    },
    {
     "name": "stdout",
     "output_type": "stream",
     "text": [
      "250:\tlearn: 161.3301738\ttest: 178.0443089\tbest: 160.6484497 (83)\ttotal: 351ms\tremaining: 1.75s\n",
      "Stopped by overfitting detector  (200 iterations wait)\n",
      "\n",
      "bestTest = 160.6484497\n",
      "bestIteration = 83\n",
      "\n",
      "Shrink model to first 84 iterations.\n",
      "=== FOLD 11 ===\n",
      "0:\tlearn: 462.7310194\ttest: 764.1952083\tbest: 764.1952083 (0)\ttotal: 1.75ms\tremaining: 2.62s\n",
      "250:\tlearn: 160.1857685\ttest: 347.3539172\tbest: 346.8548726 (247)\ttotal: 346ms\tremaining: 1.72s\n",
      "500:\tlearn: 142.5779814\ttest: 330.7422792\tbest: 330.7422792 (500)\ttotal: 707ms\tremaining: 1.41s\n",
      "750:\tlearn: 129.6941114\ttest: 316.5324389\tbest: 315.3099199 (729)\ttotal: 1.08s\tremaining: 1.08s\n",
      "1000:\tlearn: 122.4940735\ttest: 312.4241722\tbest: 312.3972318 (999)\ttotal: 1.45s\tremaining: 723ms\n",
      "1250:\tlearn: 115.9134413\ttest: 308.3444876\tbest: 308.1095696 (1245)\ttotal: 1.82s\tremaining: 362ms\n"
     ]
    },
    {
     "name": "stderr",
     "output_type": "stream",
     "text": [
      "11it [00:08,  1.09s/it]"
     ]
    },
    {
     "name": "stdout",
     "output_type": "stream",
     "text": [
      "1499:\tlearn: 110.3695993\ttest: 308.5017444\tbest: 304.5800212 (1432)\ttotal: 2.19s\tremaining: 0us\n",
      "\n",
      "bestTest = 304.5800212\n",
      "bestIteration = 1432\n",
      "\n",
      "Shrink model to first 1433 iterations.\n",
      "=== FOLD 12 ===\n",
      "0:\tlearn: 470.8949524\ttest: 287.7701268\tbest: 287.7701268 (0)\ttotal: 1.94ms\tremaining: 2.9s\n",
      "250:\tlearn: 159.5796467\ttest: 106.6801130\tbest: 106.6801130 (250)\ttotal: 344ms\tremaining: 1.71s\n"
     ]
    },
    {
     "name": "stderr",
     "output_type": "stream",
     "text": [
      "12it [00:09,  1.02it/s]"
     ]
    },
    {
     "name": "stdout",
     "output_type": "stream",
     "text": [
      "Stopped by overfitting detector  (200 iterations wait)\n",
      "\n",
      "bestTest = 103.8647239\n",
      "bestIteration = 293\n",
      "\n",
      "Shrink model to first 294 iterations.\n",
      "=== FOLD 13 ===\n",
      "0:\tlearn: 466.7410170\ttest: 428.2299882\tbest: 428.2299882 (0)\ttotal: 1.59ms\tremaining: 2.38s\n"
     ]
    },
    {
     "name": "stderr",
     "output_type": "stream",
     "text": [
      "13it [00:10,  1.22it/s]"
     ]
    },
    {
     "name": "stdout",
     "output_type": "stream",
     "text": [
      "250:\tlearn: 162.0246626\ttest: 189.6058920\tbest: 176.0778856 (78)\ttotal: 347ms\tremaining: 1.73s\n",
      "Stopped by overfitting detector  (200 iterations wait)\n",
      "\n",
      "bestTest = 176.0778856\n",
      "bestIteration = 78\n",
      "\n",
      "Shrink model to first 79 iterations.\n",
      "=== FOLD 14 ===\n",
      "0:\tlearn: 470.2876643\ttest: 322.6679033\tbest: 322.6679033 (0)\ttotal: 1.14ms\tremaining: 1.71s\n"
     ]
    },
    {
     "name": "stderr",
     "output_type": "stream",
     "text": [
      "14it [00:10,  1.46it/s]"
     ]
    },
    {
     "name": "stdout",
     "output_type": "stream",
     "text": [
      "Stopped by overfitting detector  (200 iterations wait)\n",
      "\n",
      "bestTest = 101.5384694\n",
      "bestIteration = 30\n",
      "\n",
      "Shrink model to first 31 iterations.\n",
      "=== FOLD 15 ===\n",
      "0:\tlearn: 466.2837421\ttest: 555.0690943\tbest: 555.0690943 (0)\ttotal: 1.75ms\tremaining: 2.62s\n"
     ]
    },
    {
     "name": "stderr",
     "output_type": "stream",
     "text": [
      "15it [00:10,  1.64it/s]"
     ]
    },
    {
     "name": "stdout",
     "output_type": "stream",
     "text": [
      "250:\tlearn: 168.5922381\ttest: 212.7209518\tbest: 195.8541804 (81)\ttotal: 334ms\tremaining: 1.66s\n",
      "Stopped by overfitting detector  (200 iterations wait)\n",
      "\n",
      "bestTest = 195.8541804\n",
      "bestIteration = 81\n",
      "\n",
      "Shrink model to first 82 iterations.\n",
      "=== FOLD 16 ===\n",
      "0:\tlearn: 472.1035065\ttest: 527.8979308\tbest: 527.8979308 (0)\ttotal: 2.05ms\tremaining: 3.07s\n",
      "250:\tlearn: 156.1469060\ttest: 205.3298195\tbest: 203.3188789 (235)\ttotal: 346ms\tremaining: 1.72s\n",
      "500:\tlearn: 140.6987543\ttest: 199.2325934\tbest: 197.9439204 (462)\ttotal: 695ms\tremaining: 1.39s\n",
      "750:\tlearn: 129.6126037\ttest: 184.3673959\tbest: 183.9896210 (738)\ttotal: 1.04s\tremaining: 1.04s\n"
     ]
    },
    {
     "name": "stderr",
     "output_type": "stream",
     "text": [
      "16it [00:12,  1.15it/s]"
     ]
    },
    {
     "name": "stdout",
     "output_type": "stream",
     "text": [
      "Stopped by overfitting detector  (200 iterations wait)\n",
      "\n",
      "bestTest = 179.2820858\n",
      "bestIteration = 780\n",
      "\n",
      "Shrink model to first 781 iterations.\n",
      "=== FOLD 17 ===\n",
      "0:\tlearn: 469.5515324\ttest: 344.5071454\tbest: 344.5071454 (0)\ttotal: 1.09ms\tremaining: 1.64s\n"
     ]
    },
    {
     "name": "stderr",
     "output_type": "stream",
     "text": [
      "17it [00:12,  1.40it/s]"
     ]
    },
    {
     "name": "stdout",
     "output_type": "stream",
     "text": [
      "Stopped by overfitting detector  (200 iterations wait)\n",
      "\n",
      "bestTest = 82.92075644\n",
      "bestIteration = 21\n",
      "\n",
      "Shrink model to first 22 iterations.\n",
      "=== FOLD 18 ===\n",
      "0:\tlearn: 462.8945588\ttest: 751.7660954\tbest: 751.7660954 (0)\ttotal: 1.51ms\tremaining: 2.27s\n"
     ]
    },
    {
     "name": "stderr",
     "output_type": "stream",
     "text": [
      "18it [00:13,  1.56it/s]"
     ]
    },
    {
     "name": "stdout",
     "output_type": "stream",
     "text": [
      "250:\tlearn: 156.8397565\ttest: 383.7057932\tbest: 372.5312494 (97)\ttotal: 351ms\tremaining: 1.75s\n",
      "Stopped by overfitting detector  (200 iterations wait)\n",
      "\n",
      "bestTest = 372.5312494\n",
      "bestIteration = 97\n",
      "\n",
      "Shrink model to first 98 iterations.\n",
      "=== FOLD 19 ===\n",
      "0:\tlearn: 471.2562805\ttest: 321.2743696\tbest: 321.2743696 (0)\ttotal: 1.69ms\tremaining: 2.54s\n"
     ]
    },
    {
     "name": "stderr",
     "output_type": "stream",
     "text": [
      "19it [00:13,  1.76it/s]"
     ]
    },
    {
     "name": "stdout",
     "output_type": "stream",
     "text": [
      "Stopped by overfitting detector  (200 iterations wait)\n",
      "\n",
      "bestTest = 133.6202152\n",
      "bestIteration = 45\n",
      "\n",
      "Shrink model to first 46 iterations.\n",
      "=== FOLD 20 ===\n",
      "0:\tlearn: 470.1319647\ttest: 385.7425280\tbest: 385.7425280 (0)\ttotal: 1.16ms\tremaining: 1.74s\n"
     ]
    },
    {
     "name": "stderr",
     "output_type": "stream",
     "text": [
      "20it [00:14,  1.84it/s]"
     ]
    },
    {
     "name": "stdout",
     "output_type": "stream",
     "text": [
      "250:\tlearn: 158.0927834\ttest: 219.9901834\tbest: 214.9162790 (94)\ttotal: 371ms\tremaining: 1.85s\n",
      "Stopped by overfitting detector  (200 iterations wait)\n",
      "\n",
      "bestTest = 214.916279\n",
      "bestIteration = 94\n",
      "\n",
      "Shrink model to first 95 iterations.\n",
      "=== FOLD 21 ===\n",
      "0:\tlearn: 473.1069605\ttest: 475.5887425\tbest: 475.5887425 (0)\ttotal: 1.75ms\tremaining: 2.62s\n"
     ]
    },
    {
     "name": "stderr",
     "output_type": "stream",
     "text": [
      "21it [00:14,  1.95it/s]"
     ]
    },
    {
     "name": "stdout",
     "output_type": "stream",
     "text": [
      "250:\tlearn: 153.0339877\ttest: 178.6559774\tbest: 128.9334274 (85)\ttotal: 342ms\tremaining: 1.7s\n",
      "Stopped by overfitting detector  (200 iterations wait)\n",
      "\n",
      "bestTest = 128.9334274\n",
      "bestIteration = 85\n",
      "\n",
      "Shrink model to first 86 iterations.\n",
      "=== FOLD 22 ===\n",
      "0:\tlearn: 467.1256344\ttest: 500.9177809\tbest: 500.9177809 (0)\ttotal: 1.53ms\tremaining: 2.29s\n"
     ]
    },
    {
     "name": "stderr",
     "output_type": "stream",
     "text": [
      "22it [00:15,  1.93it/s]"
     ]
    },
    {
     "name": "stdout",
     "output_type": "stream",
     "text": [
      "250:\tlearn: 162.7168425\ttest: 172.0196494\tbest: 162.3533113 (140)\ttotal: 339ms\tremaining: 1.69s\n",
      "Stopped by overfitting detector  (200 iterations wait)\n",
      "\n",
      "bestTest = 162.3533113\n",
      "bestIteration = 140\n",
      "\n",
      "Shrink model to first 141 iterations.\n",
      "=== FOLD 23 ===\n",
      "0:\tlearn: 474.1861325\ttest: 438.5073006\tbest: 438.5073006 (0)\ttotal: 1.75ms\tremaining: 2.62s\n"
     ]
    },
    {
     "name": "stderr",
     "output_type": "stream",
     "text": [
      "23it [00:15,  2.01it/s]"
     ]
    },
    {
     "name": "stdout",
     "output_type": "stream",
     "text": [
      "250:\tlearn: 164.6355033\ttest: 175.9425432\tbest: 155.6631599 (90)\ttotal: 355ms\tremaining: 1.76s\n",
      "Stopped by overfitting detector  (200 iterations wait)\n",
      "\n",
      "bestTest = 155.6631599\n",
      "bestIteration = 90\n",
      "\n",
      "Shrink model to first 91 iterations.\n",
      "=== FOLD 24 ===\n",
      "0:\tlearn: 469.1120590\ttest: 304.7646916\tbest: 304.7646916 (0)\ttotal: 1.65ms\tremaining: 2.47s\n",
      "250:\tlearn: 166.9925321\ttest: 77.2272005\tbest: 69.2972887 (183)\ttotal: 338ms\tremaining: 1.68s\n",
      "Stopped by overfitting detector  (200 iterations wait)\n",
      "\n",
      "bestTest = 69.29728871\n",
      "bestIteration = 183\n",
      "\n",
      "Shrink model to first 184 iterations.\n"
     ]
    },
    {
     "name": "stderr",
     "output_type": "stream",
     "text": [
      "24it [00:16,  1.92it/s]"
     ]
    },
    {
     "name": "stdout",
     "output_type": "stream",
     "text": [
      "=== FOLD 25 ===\n",
      "0:\tlearn: 470.9367525\ttest: 325.4873179\tbest: 325.4873179 (0)\ttotal: 1.56ms\tremaining: 2.34s\n",
      "250:\tlearn: 159.0040737\ttest: 123.6340586\tbest: 123.5252803 (249)\ttotal: 346ms\tremaining: 1.72s\n",
      "500:\tlearn: 142.2316086\ttest: 114.7890661\tbest: 114.7254666 (497)\ttotal: 703ms\tremaining: 1.4s\n",
      "750:\tlearn: 130.8084735\ttest: 110.4832349\tbest: 109.1865849 (721)\ttotal: 1.06s\tremaining: 1.06s\n"
     ]
    },
    {
     "name": "stderr",
     "output_type": "stream",
     "text": [
      "25it [00:17,  1.26it/s]"
     ]
    },
    {
     "name": "stdout",
     "output_type": "stream",
     "text": [
      "Stopped by overfitting detector  (200 iterations wait)\n",
      "\n",
      "bestTest = 109.1865849\n",
      "bestIteration = 721\n",
      "\n",
      "Shrink model to first 722 iterations.\n",
      "=== FOLD 26 ===\n",
      "0:\tlearn: 466.0961005\ttest: 573.1489327\tbest: 573.1489327 (0)\ttotal: 1.72ms\tremaining: 2.58s\n",
      "250:\tlearn: 161.2129002\ttest: 224.4231236\tbest: 224.4231236 (250)\ttotal: 348ms\tremaining: 1.73s\n"
     ]
    },
    {
     "name": "stderr",
     "output_type": "stream",
     "text": [
      "26it [00:18,  1.30it/s]"
     ]
    },
    {
     "name": "stdout",
     "output_type": "stream",
     "text": [
      "Stopped by overfitting detector  (200 iterations wait)\n",
      "\n",
      "bestTest = 224.4231236\n",
      "bestIteration = 250\n",
      "\n",
      "Shrink model to first 251 iterations.\n",
      "=== FOLD 27 ===\n",
      "0:\tlearn: 465.1794849\ttest: 572.5539794\tbest: 572.5539794 (0)\ttotal: 1.86ms\tremaining: 2.79s\n",
      "250:\tlearn: 166.9792076\ttest: 289.3525842\tbest: 274.3534799 (168)\ttotal: 351ms\tremaining: 1.75s\n",
      "Stopped by overfitting detector  (200 iterations wait)\n",
      "\n",
      "bestTest = 274.3534799\n",
      "bestIteration = 168\n",
      "\n",
      "Shrink model to first 169 iterations.\n"
     ]
    },
    {
     "name": "stderr",
     "output_type": "stream",
     "text": [
      "27it [00:18,  1.40it/s]"
     ]
    },
    {
     "name": "stdout",
     "output_type": "stream",
     "text": [
      "=== FOLD 28 ===\n",
      "0:\tlearn: 467.5719473\ttest: 504.7388749\tbest: 504.7388749 (0)\ttotal: 1.76ms\tremaining: 2.65s\n"
     ]
    },
    {
     "name": "stderr",
     "output_type": "stream",
     "text": [
      "28it [00:19,  1.59it/s]"
     ]
    },
    {
     "name": "stdout",
     "output_type": "stream",
     "text": [
      "250:\tlearn: 167.8181503\ttest: 166.7725998\tbest: 154.7578102 (80)\ttotal: 350ms\tremaining: 1.74s\n",
      "Stopped by overfitting detector  (200 iterations wait)\n",
      "\n",
      "bestTest = 154.7578102\n",
      "bestIteration = 80\n",
      "\n",
      "Shrink model to first 81 iterations.\n",
      "=== FOLD 29 ===\n",
      "0:\tlearn: 470.0386335\ttest: 695.8136886\tbest: 695.8136886 (0)\ttotal: 1.81ms\tremaining: 2.72s\n",
      "250:\tlearn: 157.5347430\ttest: 292.0283925\tbest: 289.1717089 (87)\ttotal: 353ms\tremaining: 1.75s\n",
      "500:\tlearn: 138.2795053\ttest: 282.5518659\tbest: 282.3965946 (484)\ttotal: 715ms\tremaining: 1.43s\n"
     ]
    },
    {
     "name": "stderr",
     "output_type": "stream",
     "text": [
      "29it [00:20,  1.28it/s]"
     ]
    },
    {
     "name": "stdout",
     "output_type": "stream",
     "text": [
      "Stopped by overfitting detector  (200 iterations wait)\n",
      "\n",
      "bestTest = 281.4441064\n",
      "bestIteration = 524\n",
      "\n",
      "Shrink model to first 525 iterations.\n",
      "=== FOLD 30 ===\n",
      "0:\tlearn: 467.2469773\ttest: 509.2993907\tbest: 509.2993907 (0)\ttotal: 1.6ms\tremaining: 2.4s\n"
     ]
    },
    {
     "name": "stderr",
     "output_type": "stream",
     "text": [
      "30it [00:20,  1.52it/s]"
     ]
    },
    {
     "name": "stdout",
     "output_type": "stream",
     "text": [
      "Stopped by overfitting detector  (200 iterations wait)\n",
      "\n",
      "bestTest = 160.5515107\n",
      "bestIteration = 38\n",
      "\n",
      "Shrink model to first 39 iterations.\n",
      "=== FOLD 31 ===\n",
      "0:\tlearn: 467.0766718\ttest: 467.8889423\tbest: 467.8889423 (0)\ttotal: 1.74ms\tremaining: 2.62s\n"
     ]
    },
    {
     "name": "stderr",
     "output_type": "stream",
     "text": [
      "31it [00:21,  1.70it/s]"
     ]
    },
    {
     "name": "stdout",
     "output_type": "stream",
     "text": [
      "250:\tlearn: 164.5298856\ttest: 155.7305965\tbest: 137.9275508 (70)\ttotal: 338ms\tremaining: 1.68s\n",
      "Stopped by overfitting detector  (200 iterations wait)\n",
      "\n",
      "bestTest = 137.9275508\n",
      "bestIteration = 70\n",
      "\n",
      "Shrink model to first 71 iterations.\n",
      "=== FOLD 32 ===\n",
      "0:\tlearn: 464.6983574\ttest: 618.5086598\tbest: 618.5086598 (0)\ttotal: 1.63ms\tremaining: 2.45s\n"
     ]
    },
    {
     "name": "stderr",
     "output_type": "stream",
     "text": [
      "32it [00:21,  1.91it/s]"
     ]
    },
    {
     "name": "stdout",
     "output_type": "stream",
     "text": [
      "Stopped by overfitting detector  (200 iterations wait)\n",
      "\n",
      "bestTest = 184.2476023\n",
      "bestIteration = 36\n",
      "\n",
      "Shrink model to first 37 iterations.\n",
      "=== FOLD 33 ===\n",
      "0:\tlearn: 465.7744026\ttest: 635.6531273\tbest: 635.6531273 (0)\ttotal: 1.55ms\tremaining: 2.33s\n"
     ]
    },
    {
     "name": "stderr",
     "output_type": "stream",
     "text": [
      "33it [00:22,  1.98it/s]"
     ]
    },
    {
     "name": "stdout",
     "output_type": "stream",
     "text": [
      "250:\tlearn: 163.9624779\ttest: 176.4081172\tbest: 156.3873698 (84)\ttotal: 358ms\tremaining: 1.78s\n",
      "Stopped by overfitting detector  (200 iterations wait)\n",
      "\n",
      "bestTest = 156.3873698\n",
      "bestIteration = 84\n",
      "\n",
      "Shrink model to first 85 iterations.\n",
      "=== FOLD 34 ===\n",
      "0:\tlearn: 470.6009863\ttest: 610.5776269\tbest: 610.5776269 (0)\ttotal: 1.76ms\tremaining: 2.64s\n"
     ]
    },
    {
     "name": "stderr",
     "output_type": "stream",
     "text": [
      "34it [00:22,  2.06it/s]"
     ]
    },
    {
     "name": "stdout",
     "output_type": "stream",
     "text": [
      "250:\tlearn: 154.3934357\ttest: 294.3453052\tbest: 288.0536067 (98)\ttotal: 339ms\tremaining: 1.69s\n",
      "Stopped by overfitting detector  (200 iterations wait)\n",
      "\n",
      "bestTest = 288.0536067\n",
      "bestIteration = 98\n",
      "\n",
      "Shrink model to first 99 iterations.\n",
      "=== FOLD 35 ===\n",
      "0:\tlearn: 472.6555440\ttest: 461.8389652\tbest: 461.8389652 (0)\ttotal: 1.74ms\tremaining: 2.6s\n"
     ]
    },
    {
     "name": "stderr",
     "output_type": "stream",
     "text": [
      "35it [00:22,  2.22it/s]"
     ]
    },
    {
     "name": "stdout",
     "output_type": "stream",
     "text": [
      "Stopped by overfitting detector  (200 iterations wait)\n",
      "\n",
      "bestTest = 264.2721523\n",
      "bestIteration = 18\n",
      "\n",
      "Shrink model to first 19 iterations.\n",
      "=== FOLD 36 ===\n",
      "0:\tlearn: 462.6760440\ttest: 703.8024965\tbest: 703.8024965 (0)\ttotal: 7.82ms\tremaining: 11.7s\n",
      "250:\tlearn: 162.1153960\ttest: 260.6641154\tbest: 252.5778909 (172)\ttotal: 367ms\tremaining: 1.83s\n",
      "500:\tlearn: 137.8966836\ttest: 247.1659896\tbest: 246.0980962 (455)\ttotal: 723ms\tremaining: 1.44s\n",
      "750:\tlearn: 124.6454625\ttest: 240.7876096\tbest: 240.7876096 (750)\ttotal: 1.07s\tremaining: 1.07s\n"
     ]
    },
    {
     "name": "stderr",
     "output_type": "stream",
     "text": [
      "36it [00:24,  1.31it/s]"
     ]
    },
    {
     "name": "stdout",
     "output_type": "stream",
     "text": [
      "Stopped by overfitting detector  (200 iterations wait)\n",
      "\n",
      "bestTest = 239.0784665\n",
      "bestIteration = 770\n",
      "\n",
      "Shrink model to first 771 iterations.\n",
      "=== FOLD 37 ===\n",
      "0:\tlearn: 466.7406699\ttest: 483.6781530\tbest: 483.6781530 (0)\ttotal: 1.67ms\tremaining: 2.51s\n"
     ]
    },
    {
     "name": "stderr",
     "output_type": "stream",
     "text": [
      "37it [00:24,  1.57it/s]"
     ]
    },
    {
     "name": "stdout",
     "output_type": "stream",
     "text": [
      "Stopped by overfitting detector  (200 iterations wait)\n",
      "\n",
      "bestTest = 234.7225516\n",
      "bestIteration = 26\n",
      "\n",
      "Shrink model to first 27 iterations.\n",
      "=== FOLD 38 ===\n",
      "0:\tlearn: 465.3839184\ttest: 535.5422223\tbest: 535.5422223 (0)\ttotal: 1.02ms\tremaining: 1.53s\n",
      "250:\tlearn: 153.2932051\ttest: 123.0575693\tbest: 123.0575693 (250)\ttotal: 350ms\tremaining: 1.74s\n"
     ]
    },
    {
     "name": "stderr",
     "output_type": "stream",
     "text": [
      "38it [00:25,  1.40it/s]"
     ]
    },
    {
     "name": "stdout",
     "output_type": "stream",
     "text": [
      "500:\tlearn: 138.4254751\ttest: 128.5583264\tbest: 113.8932120 (382)\ttotal: 702ms\tremaining: 1.4s\n",
      "Stopped by overfitting detector  (200 iterations wait)\n",
      "\n",
      "bestTest = 113.893212\n",
      "bestIteration = 382\n",
      "\n",
      "Shrink model to first 383 iterations.\n",
      "=== FOLD 39 ===\n",
      "0:\tlearn: 475.7978318\ttest: 345.3830707\tbest: 345.3830707 (0)\ttotal: 1.73ms\tremaining: 2.59s\n",
      "250:\tlearn: 173.2122789\ttest: 119.9930612\tbest: 119.9930612 (250)\ttotal: 341ms\tremaining: 1.7s\n"
     ]
    },
    {
     "name": "stderr",
     "output_type": "stream",
     "text": [
      "39it [00:26,  1.34it/s]"
     ]
    },
    {
     "name": "stdout",
     "output_type": "stream",
     "text": [
      "500:\tlearn: 142.5730024\ttest: 119.6247884\tbest: 116.1307564 (338)\ttotal: 694ms\tremaining: 1.38s\n",
      "Stopped by overfitting detector  (200 iterations wait)\n",
      "\n",
      "bestTest = 116.1307564\n",
      "bestIteration = 338\n",
      "\n",
      "Shrink model to first 339 iterations.\n",
      "=== FOLD 40 ===\n",
      "0:\tlearn: 473.3259061\ttest: 485.8618602\tbest: 485.8618602 (0)\ttotal: 1.94ms\tremaining: 2.91s\n"
     ]
    },
    {
     "name": "stderr",
     "output_type": "stream",
     "text": [
      "40it [00:26,  1.53it/s]"
     ]
    },
    {
     "name": "stdout",
     "output_type": "stream",
     "text": [
      "250:\tlearn: 162.4376853\ttest: 228.7345019\tbest: 191.7269985 (72)\ttotal: 350ms\tremaining: 1.74s\n",
      "Stopped by overfitting detector  (200 iterations wait)\n",
      "\n",
      "bestTest = 191.7269985\n",
      "bestIteration = 72\n",
      "\n",
      "Shrink model to first 73 iterations.\n",
      "=== FOLD 41 ===\n",
      "0:\tlearn: 468.1754658\ttest: 417.7125121\tbest: 417.7125121 (0)\ttotal: 1.56ms\tremaining: 2.35s\n",
      "250:\tlearn: 157.5969585\ttest: 235.4282490\tbest: 235.1998486 (249)\ttotal: 331ms\tremaining: 1.65s\n",
      "500:\tlearn: 139.7434122\ttest: 227.5837275\tbest: 226.5063638 (481)\ttotal: 688ms\tremaining: 1.37s\n",
      "750:\tlearn: 129.1860975\ttest: 224.7905143\tbest: 224.2524972 (737)\ttotal: 1.05s\tremaining: 1.05s\n",
      "1000:\tlearn: 121.5226206\ttest: 222.2177660\tbest: 220.2797169 (911)\ttotal: 1.41s\tremaining: 704ms\n"
     ]
    },
    {
     "name": "stderr",
     "output_type": "stream",
     "text": [
      "41it [00:28,  1.04s/it]"
     ]
    },
    {
     "name": "stdout",
     "output_type": "stream",
     "text": [
      "1250:\tlearn: 114.7284404\ttest: 219.0619514\tbest: 217.9773463 (1094)\ttotal: 1.77s\tremaining: 353ms\n",
      "Stopped by overfitting detector  (200 iterations wait)\n",
      "\n",
      "bestTest = 217.9773463\n",
      "bestIteration = 1094\n",
      "\n",
      "Shrink model to first 1095 iterations.\n",
      "=== FOLD 42 ===\n",
      "0:\tlearn: 471.9849176\ttest: 271.0286866\tbest: 271.0286866 (0)\ttotal: 2.49ms\tremaining: 3.73s\n"
     ]
    },
    {
     "name": "stderr",
     "output_type": "stream",
     "text": [
      "42it [00:29,  1.11it/s]"
     ]
    },
    {
     "name": "stdout",
     "output_type": "stream",
     "text": [
      "250:\tlearn: 159.2361021\ttest: 90.1036813\tbest: 85.6934044 (149)\ttotal: 357ms\tremaining: 1.78s\n",
      "Stopped by overfitting detector  (200 iterations wait)\n",
      "\n",
      "bestTest = 85.69340443\n",
      "bestIteration = 149\n",
      "\n",
      "Shrink model to first 150 iterations.\n",
      "=== FOLD 43 ===\n",
      "0:\tlearn: 465.8867848\ttest: 585.4588423\tbest: 585.4588423 (0)\ttotal: 1.84ms\tremaining: 2.75s\n"
     ]
    },
    {
     "name": "stderr",
     "output_type": "stream",
     "text": [
      "43it [00:29,  1.32it/s]"
     ]
    },
    {
     "name": "stdout",
     "output_type": "stream",
     "text": [
      "Stopped by overfitting detector  (200 iterations wait)\n",
      "\n",
      "bestTest = 212.0584966\n",
      "bestIteration = 43\n",
      "\n",
      "Shrink model to first 44 iterations.\n",
      "=== FOLD 44 ===\n",
      "0:\tlearn: 473.4437158\ttest: 452.0471548\tbest: 452.0471548 (0)\ttotal: 2.23ms\tremaining: 3.34s\n"
     ]
    },
    {
     "name": "stderr",
     "output_type": "stream",
     "text": [
      "44it [00:30,  1.52it/s]"
     ]
    },
    {
     "name": "stdout",
     "output_type": "stream",
     "text": [
      "250:\tlearn: 155.7878955\ttest: 264.2312881\tbest: 242.1531407 (62)\ttotal: 356ms\tremaining: 1.77s\n",
      "Stopped by overfitting detector  (200 iterations wait)\n",
      "\n",
      "bestTest = 242.1531407\n",
      "bestIteration = 62\n",
      "\n",
      "Shrink model to first 63 iterations.\n",
      "=== FOLD 45 ===\n",
      "0:\tlearn: 469.1843465\ttest: 714.2233670\tbest: 714.2233670 (0)\ttotal: 1.73ms\tremaining: 2.59s\n",
      "250:\tlearn: 158.2090426\ttest: 411.0834798\tbest: 406.0269025 (223)\ttotal: 343ms\tremaining: 1.71s\n",
      "500:\tlearn: 138.0300415\ttest: 400.5196545\tbest: 400.3202229 (499)\ttotal: 701ms\tremaining: 1.4s\n",
      "750:\tlearn: 126.4565274\ttest: 396.0205559\tbest: 395.9724318 (748)\ttotal: 1.07s\tremaining: 1.06s\n"
     ]
    },
    {
     "name": "stderr",
     "output_type": "stream",
     "text": [
      "45it [00:31,  1.10it/s]"
     ]
    },
    {
     "name": "stdout",
     "output_type": "stream",
     "text": [
      "Stopped by overfitting detector  (200 iterations wait)\n",
      "\n",
      "bestTest = 395.0350863\n",
      "bestIteration = 763\n",
      "\n",
      "Shrink model to first 764 iterations.\n",
      "=== FOLD 46 ===\n",
      "0:\tlearn: 469.7506731\ttest: 368.8502641\tbest: 368.8502641 (0)\ttotal: 1.56ms\tremaining: 2.34s\n",
      "250:\tlearn: 163.5683237\ttest: 176.9066590\tbest: 170.9401286 (152)\ttotal: 343ms\tremaining: 1.71s\n",
      "500:\tlearn: 144.7380114\ttest: 169.7635466\tbest: 165.9660524 (458)\ttotal: 690ms\tremaining: 1.38s\n",
      "750:\tlearn: 131.8557368\ttest: 162.6434924\tbest: 161.9283244 (624)\ttotal: 1.05s\tremaining: 1.05s\n"
     ]
    },
    {
     "name": "stderr",
     "output_type": "stream",
     "text": [
      "46it [00:33,  1.12s/it]"
     ]
    },
    {
     "name": "stdout",
     "output_type": "stream",
     "text": [
      "1000:\tlearn: 123.5301187\ttest: 165.1010269\tbest: 161.4868009 (854)\ttotal: 1.43s\tremaining: 711ms\n",
      "Stopped by overfitting detector  (200 iterations wait)\n",
      "\n",
      "bestTest = 161.4868009\n",
      "bestIteration = 854\n",
      "\n",
      "Shrink model to first 855 iterations.\n",
      "=== FOLD 47 ===\n",
      "0:\tlearn: 473.9381614\ttest: 453.3650550\tbest: 453.3650550 (0)\ttotal: 1.91ms\tremaining: 2.87s\n",
      "250:\tlearn: 167.4424380\ttest: 137.5679206\tbest: 131.3023582 (230)\ttotal: 348ms\tremaining: 1.73s\n"
     ]
    },
    {
     "name": "stderr",
     "output_type": "stream",
     "text": [
      "47it [00:33,  1.02it/s]"
     ]
    },
    {
     "name": "stdout",
     "output_type": "stream",
     "text": [
      "Stopped by overfitting detector  (200 iterations wait)\n",
      "\n",
      "bestTest = 131.3023582\n",
      "bestIteration = 230\n",
      "\n",
      "Shrink model to first 231 iterations.\n",
      "=== FOLD 48 ===\n",
      "0:\tlearn: 472.3199640\ttest: 517.5951643\tbest: 517.5951643 (0)\ttotal: 1.91ms\tremaining: 2.86s\n"
     ]
    },
    {
     "name": "stderr",
     "output_type": "stream",
     "text": [
      "48it [00:34,  1.20it/s]"
     ]
    },
    {
     "name": "stdout",
     "output_type": "stream",
     "text": [
      "250:\tlearn: 154.7965739\ttest: 264.5977107\tbest: 239.3460018 (90)\ttotal: 378ms\tremaining: 1.88s\n",
      "Stopped by overfitting detector  (200 iterations wait)\n",
      "\n",
      "bestTest = 239.3460018\n",
      "bestIteration = 90\n",
      "\n",
      "Shrink model to first 91 iterations.\n",
      "=== FOLD 49 ===\n",
      "0:\tlearn: 469.9832244\ttest: 332.7113467\tbest: 332.7113467 (0)\ttotal: 2.03ms\tremaining: 3.04s\n"
     ]
    },
    {
     "name": "stderr",
     "output_type": "stream",
     "text": [
      "49it [00:34,  1.41it/s]"
     ]
    },
    {
     "name": "stdout",
     "output_type": "stream",
     "text": [
      "Stopped by overfitting detector  (200 iterations wait)\n",
      "\n",
      "bestTest = 92.92238541\n",
      "bestIteration = 27\n",
      "\n",
      "Shrink model to first 28 iterations.\n",
      "=== FOLD 50 ===\n",
      "0:\tlearn: 470.5522635\ttest: 632.4934881\tbest: 632.4934881 (0)\ttotal: 1.78ms\tremaining: 2.67s\n",
      "250:\tlearn: 163.9898284\ttest: 237.6806880\tbest: 237.5493425 (249)\ttotal: 342ms\tremaining: 1.7s\n",
      "500:\tlearn: 143.7474309\ttest: 226.9741092\tbest: 225.5684535 (479)\ttotal: 701ms\tremaining: 1.4s\n"
     ]
    },
    {
     "name": "stderr",
     "output_type": "stream",
     "text": [
      "50it [00:35,  1.21it/s]"
     ]
    },
    {
     "name": "stdout",
     "output_type": "stream",
     "text": [
      "Stopped by overfitting detector  (200 iterations wait)\n",
      "\n",
      "bestTest = 224.2621415\n",
      "bestIteration = 522\n",
      "\n",
      "Shrink model to first 523 iterations.\n",
      "=== FOLD 51 ===\n",
      "0:\tlearn: 471.8912184\ttest: 289.4845851\tbest: 289.4845851 (0)\ttotal: 1.4ms\tremaining: 2.1s\n"
     ]
    },
    {
     "name": "stderr",
     "output_type": "stream",
     "text": [
      "51it [00:36,  1.43it/s]"
     ]
    },
    {
     "name": "stdout",
     "output_type": "stream",
     "text": [
      "Stopped by overfitting detector  (200 iterations wait)\n",
      "\n",
      "bestTest = 157.477611\n",
      "bestIteration = 47\n",
      "\n",
      "Shrink model to first 48 iterations.\n",
      "=== FOLD 52 ===\n",
      "0:\tlearn: 467.5052807\ttest: 465.8263446\tbest: 465.8263446 (0)\ttotal: 1.57ms\tremaining: 2.36s\n"
     ]
    },
    {
     "name": "stderr",
     "output_type": "stream",
     "text": [
      "52it [00:36,  1.67it/s]"
     ]
    },
    {
     "name": "stdout",
     "output_type": "stream",
     "text": [
      "Stopped by overfitting detector  (200 iterations wait)\n",
      "\n",
      "bestTest = 172.3680044\n",
      "bestIteration = 36\n",
      "\n",
      "Shrink model to first 37 iterations.\n",
      "=== FOLD 53 ===\n",
      "0:\tlearn: 475.6635286\ttest: 331.9954829\tbest: 331.9954829 (0)\ttotal: 1.81ms\tremaining: 2.72s\n",
      "250:\tlearn: 160.0517064\ttest: 71.2034244\tbest: 70.9402103 (246)\ttotal: 349ms\tremaining: 1.74s\n"
     ]
    },
    {
     "name": "stderr",
     "output_type": "stream",
     "text": [
      "53it [00:37,  1.59it/s]"
     ]
    },
    {
     "name": "stdout",
     "output_type": "stream",
     "text": [
      "Stopped by overfitting detector  (200 iterations wait)\n",
      "\n",
      "bestTest = 70.7150378\n",
      "bestIteration = 253\n",
      "\n",
      "Shrink model to first 254 iterations.\n",
      "=== FOLD 54 ===\n",
      "0:\tlearn: 468.0253449\ttest: 436.6989946\tbest: 436.6989946 (0)\ttotal: 1.51ms\tremaining: 2.27s\n"
     ]
    },
    {
     "name": "stderr",
     "output_type": "stream",
     "text": [
      "54it [00:37,  1.74it/s]"
     ]
    },
    {
     "name": "stdout",
     "output_type": "stream",
     "text": [
      "250:\tlearn: 161.6760244\ttest: 98.0761166\tbest: 75.6247623 (89)\ttotal: 338ms\tremaining: 1.68s\n",
      "Stopped by overfitting detector  (200 iterations wait)\n",
      "\n",
      "bestTest = 75.62476234\n",
      "bestIteration = 89\n",
      "\n",
      "Shrink model to first 90 iterations.\n",
      "=== FOLD 55 ===\n",
      "0:\tlearn: 473.2237770\ttest: 470.2332227\tbest: 470.2332227 (0)\ttotal: 1.76ms\tremaining: 2.65s\n"
     ]
    },
    {
     "name": "stderr",
     "output_type": "stream",
     "text": [
      "55it [00:38,  1.91it/s]"
     ]
    },
    {
     "name": "stdout",
     "output_type": "stream",
     "text": [
      "Stopped by overfitting detector  (200 iterations wait)\n",
      "\n",
      "bestTest = 223.0964749\n",
      "bestIteration = 48\n",
      "\n",
      "Shrink model to first 49 iterations.\n",
      "=== FOLD 56 ===\n",
      "0:\tlearn: 472.7811590\ttest: 494.3238103\tbest: 494.3238103 (0)\ttotal: 1.82ms\tremaining: 2.73s\n",
      "250:\tlearn: 167.7516485\ttest: 162.5144669\tbest: 162.0002062 (249)\ttotal: 345ms\tremaining: 1.72s\n",
      "500:\tlearn: 144.7930999\ttest: 159.8668707\tbest: 154.3255894 (480)\ttotal: 691ms\tremaining: 1.38s\n"
     ]
    },
    {
     "name": "stderr",
     "output_type": "stream",
     "text": [
      "56it [00:39,  1.49it/s]"
     ]
    },
    {
     "name": "stdout",
     "output_type": "stream",
     "text": [
      "Stopped by overfitting detector  (200 iterations wait)\n",
      "\n",
      "bestTest = 154.3255894\n",
      "bestIteration = 480\n",
      "\n",
      "Shrink model to first 481 iterations.\n",
      "=== FOLD 57 ===\n",
      "0:\tlearn: 475.7998019\ttest: 342.0151245\tbest: 342.0151245 (0)\ttotal: 1.75ms\tremaining: 2.62s\n",
      "250:\tlearn: 159.8214494\ttest: 75.4290047\tbest: 73.4560085 (185)\ttotal: 345ms\tremaining: 1.72s\n"
     ]
    },
    {
     "name": "stderr",
     "output_type": "stream",
     "text": [
      "57it [00:40,  1.44it/s]"
     ]
    },
    {
     "name": "stdout",
     "output_type": "stream",
     "text": [
      "Stopped by overfitting detector  (200 iterations wait)\n",
      "\n",
      "bestTest = 70.49012652\n",
      "bestIteration = 289\n",
      "\n",
      "Shrink model to first 290 iterations.\n",
      "=== FOLD 58 ===\n",
      "0:\tlearn: 475.9370508\ttest: 309.7195609\tbest: 309.7195609 (0)\ttotal: 1.9ms\tremaining: 2.84s\n"
     ]
    },
    {
     "name": "stderr",
     "output_type": "stream",
     "text": [
      "58it [00:40,  1.61it/s]"
     ]
    },
    {
     "name": "stdout",
     "output_type": "stream",
     "text": [
      "250:\tlearn: 165.7697169\ttest: 90.0045067\tbest: 82.1604516 (87)\ttotal: 367ms\tremaining: 1.83s\n",
      "Stopped by overfitting detector  (200 iterations wait)\n",
      "\n",
      "bestTest = 82.1604516\n",
      "bestIteration = 87\n",
      "\n",
      "Shrink model to first 88 iterations.\n",
      "=== FOLD 59 ===\n",
      "0:\tlearn: 475.3935848\ttest: 357.1936360\tbest: 357.1936360 (0)\ttotal: 1.77ms\tremaining: 2.65s\n",
      "250:\tlearn: 158.0743908\ttest: 104.5732153\tbest: 101.9559120 (175)\ttotal: 347ms\tremaining: 1.73s\n",
      "Stopped by overfitting detector  (200 iterations wait)\n",
      "\n",
      "bestTest = 101.955912\n",
      "bestIteration = 175\n",
      "\n",
      "Shrink model to first 176 iterations.\n"
     ]
    },
    {
     "name": "stderr",
     "output_type": "stream",
     "text": [
      "59it [00:41,  1.64it/s]"
     ]
    },
    {
     "name": "stdout",
     "output_type": "stream",
     "text": [
      "=== FOLD 60 ===\n",
      "0:\tlearn: 467.8532563\ttest: 766.4251947\tbest: 766.4251947 (0)\ttotal: 2.01ms\tremaining: 3.01s\n",
      "250:\tlearn: 157.1745030\ttest: 288.1737946\tbest: 288.1737946 (250)\ttotal: 342ms\tremaining: 1.7s\n",
      "500:\tlearn: 138.8739682\ttest: 263.4338756\tbest: 261.6743528 (466)\ttotal: 705ms\tremaining: 1.41s\n",
      "750:\tlearn: 129.3341560\ttest: 254.4199067\tbest: 253.8591923 (718)\ttotal: 1.06s\tremaining: 1.06s\n",
      "1000:\tlearn: 120.0349016\ttest: 249.8962056\tbest: 248.4090024 (947)\ttotal: 1.44s\tremaining: 715ms\n",
      "1250:\tlearn: 112.6058458\ttest: 244.3184613\tbest: 243.6849639 (1247)\ttotal: 1.81s\tremaining: 361ms\n"
     ]
    },
    {
     "name": "stderr",
     "output_type": "stream",
     "text": [
      "60it [00:43,  1.12s/it]"
     ]
    },
    {
     "name": "stdout",
     "output_type": "stream",
     "text": [
      "1499:\tlearn: 106.5477825\ttest: 240.1278862\tbest: 239.7486214 (1475)\ttotal: 2.19s\tremaining: 0us\n",
      "\n",
      "bestTest = 239.7486214\n",
      "bestIteration = 1475\n",
      "\n",
      "Shrink model to first 1476 iterations.\n",
      "=== FOLD 61 ===\n",
      "0:\tlearn: 468.1171746\ttest: 476.9000408\tbest: 476.9000408 (0)\ttotal: 1.46ms\tremaining: 2.18s\n"
     ]
    },
    {
     "name": "stderr",
     "output_type": "stream",
     "text": [
      "61it [00:43,  1.05it/s]"
     ]
    },
    {
     "name": "stdout",
     "output_type": "stream",
     "text": [
      "250:\tlearn: 161.0500821\ttest: 196.9560667\tbest: 187.8758789 (162)\ttotal: 347ms\tremaining: 1.73s\n",
      "Stopped by overfitting detector  (200 iterations wait)\n",
      "\n",
      "bestTest = 187.8758789\n",
      "bestIteration = 162\n",
      "\n",
      "Shrink model to first 163 iterations.\n",
      "=== FOLD 62 ===\n",
      "0:\tlearn: 461.8825073\ttest: 774.0181128\tbest: 774.0181128 (0)\ttotal: 1.5ms\tremaining: 2.25s\n"
     ]
    },
    {
     "name": "stderr",
     "output_type": "stream",
     "text": [
      "62it [00:44,  1.24it/s]"
     ]
    },
    {
     "name": "stdout",
     "output_type": "stream",
     "text": [
      "250:\tlearn: 160.6931809\ttest: 332.1237875\tbest: 323.9160277 (85)\ttotal: 353ms\tremaining: 1.76s\n",
      "Stopped by overfitting detector  (200 iterations wait)\n",
      "\n",
      "bestTest = 323.9160277\n",
      "bestIteration = 85\n",
      "\n",
      "Shrink model to first 86 iterations.\n",
      "=== FOLD 63 ===\n",
      "0:\tlearn: 468.5328558\ttest: 384.3156357\tbest: 384.3156357 (0)\ttotal: 1.59ms\tremaining: 2.38s\n"
     ]
    },
    {
     "name": "stderr",
     "output_type": "stream",
     "text": [
      "63it [00:44,  1.43it/s]"
     ]
    },
    {
     "name": "stdout",
     "output_type": "stream",
     "text": [
      "250:\tlearn: 155.8144051\ttest: 101.7201862\tbest: 95.9287242 (86)\ttotal: 343ms\tremaining: 1.71s\n",
      "Stopped by overfitting detector  (200 iterations wait)\n",
      "\n",
      "bestTest = 95.9287242\n",
      "bestIteration = 86\n",
      "\n",
      "Shrink model to first 87 iterations.\n",
      "=== FOLD 64 ===\n",
      "0:\tlearn: 474.4295580\ttest: 410.1200783\tbest: 410.1200783 (0)\ttotal: 1.81ms\tremaining: 2.71s\n"
     ]
    },
    {
     "name": "stderr",
     "output_type": "stream",
     "text": [
      "64it [00:45,  1.65it/s]"
     ]
    },
    {
     "name": "stdout",
     "output_type": "stream",
     "text": [
      "Stopped by overfitting detector  (200 iterations wait)\n",
      "\n",
      "bestTest = 170.4736105\n",
      "bestIteration = 48\n",
      "\n",
      "Shrink model to first 49 iterations.\n",
      "=== FOLD 65 ===\n",
      "0:\tlearn: 476.5310406\ttest: 277.5901711\tbest: 277.5901711 (0)\ttotal: 1.79ms\tremaining: 2.69s\n"
     ]
    },
    {
     "name": "stderr",
     "output_type": "stream",
     "text": [
      "65it [00:45,  1.85it/s]"
     ]
    },
    {
     "name": "stdout",
     "output_type": "stream",
     "text": [
      "Stopped by overfitting detector  (200 iterations wait)\n",
      "\n",
      "bestTest = 107.8515677\n",
      "bestIteration = 42\n",
      "\n",
      "Shrink model to first 43 iterations.\n",
      "=== FOLD 66 ===\n",
      "0:\tlearn: 472.4572642\ttest: 506.8215048\tbest: 506.8215048 (0)\ttotal: 2.56ms\tremaining: 3.83s\n"
     ]
    },
    {
     "name": "stderr",
     "output_type": "stream",
     "text": [
      "66it [00:46,  1.99it/s]"
     ]
    },
    {
     "name": "stdout",
     "output_type": "stream",
     "text": [
      "Stopped by overfitting detector  (200 iterations wait)\n",
      "\n",
      "bestTest = 128.9366531\n",
      "bestIteration = 30\n",
      "\n",
      "Shrink model to first 31 iterations.\n",
      "=== FOLD 67 ===\n",
      "0:\tlearn: 469.0409126\ttest: 716.8455984\tbest: 716.8455984 (0)\ttotal: 1.78ms\tremaining: 2.67s\n"
     ]
    },
    {
     "name": "stderr",
     "output_type": "stream",
     "text": [
      "67it [00:46,  2.08it/s]"
     ]
    },
    {
     "name": "stdout",
     "output_type": "stream",
     "text": [
      "250:\tlearn: 160.1177155\ttest: 311.8254870\tbest: 297.9654395 (71)\ttotal: 351ms\tremaining: 1.75s\n",
      "Stopped by overfitting detector  (200 iterations wait)\n",
      "\n",
      "bestTest = 297.9654395\n",
      "bestIteration = 71\n",
      "\n",
      "Shrink model to first 72 iterations.\n",
      "=== FOLD 68 ===\n",
      "0:\tlearn: 475.0280183\ttest: 371.6099089\tbest: 371.6099089 (0)\ttotal: 1.84ms\tremaining: 2.76s\n"
     ]
    },
    {
     "name": "stderr",
     "output_type": "stream",
     "text": [
      "68it [00:46,  2.09it/s]"
     ]
    },
    {
     "name": "stdout",
     "output_type": "stream",
     "text": [
      "250:\tlearn: 165.1529477\ttest: 138.1602761\tbest: 131.7093355 (106)\ttotal: 342ms\tremaining: 1.7s\n",
      "Stopped by overfitting detector  (200 iterations wait)\n",
      "\n",
      "bestTest = 131.7093355\n",
      "bestIteration = 106\n",
      "\n",
      "Shrink model to first 107 iterations.\n",
      "=== FOLD 69 ===\n",
      "0:\tlearn: 472.3168129\ttest: 283.1016738\tbest: 283.1016738 (0)\ttotal: 1.48ms\tremaining: 2.22s\n"
     ]
    },
    {
     "name": "stderr",
     "output_type": "stream",
     "text": [
      "69it [00:47,  2.17it/s]"
     ]
    },
    {
     "name": "stdout",
     "output_type": "stream",
     "text": [
      "250:\tlearn: 167.2121371\ttest: 79.1270653\tbest: 74.4737256 (66)\ttotal: 344ms\tremaining: 1.71s\n",
      "Stopped by overfitting detector  (200 iterations wait)\n",
      "\n",
      "bestTest = 74.47372556\n",
      "bestIteration = 66\n",
      "\n",
      "Shrink model to first 67 iterations.\n",
      "=== FOLD 70 ===\n",
      "0:\tlearn: 471.9412989\ttest: 289.9508284\tbest: 289.9508284 (0)\ttotal: 1.54ms\tremaining: 2.3s\n",
      "250:\tlearn: 168.9102589\ttest: 85.4967314\tbest: 84.8592433 (247)\ttotal: 343ms\tremaining: 1.71s\n"
     ]
    },
    {
     "name": "stderr",
     "output_type": "stream",
     "text": [
      "70it [00:48,  1.81it/s]"
     ]
    },
    {
     "name": "stdout",
     "output_type": "stream",
     "text": [
      "500:\tlearn: 152.4355672\ttest: 85.0597997\tbest: 84.6923480 (304)\ttotal: 691ms\tremaining: 1.38s\n",
      "Stopped by overfitting detector  (200 iterations wait)\n",
      "\n",
      "bestTest = 84.69234798\n",
      "bestIteration = 304\n",
      "\n",
      "Shrink model to first 305 iterations.\n",
      "=== FOLD 71 ===\n",
      "0:\tlearn: 470.4210992\ttest: 384.2083966\tbest: 384.2083966 (0)\ttotal: 1.51ms\tremaining: 2.26s\n"
     ]
    },
    {
     "name": "stderr",
     "output_type": "stream",
     "text": [
      "71it [00:48,  1.96it/s]"
     ]
    },
    {
     "name": "stdout",
     "output_type": "stream",
     "text": [
      "250:\tlearn: 166.6300070\ttest: 111.8384080\tbest: 106.4209285 (54)\ttotal: 352ms\tremaining: 1.75s\n",
      "Stopped by overfitting detector  (200 iterations wait)\n",
      "\n",
      "bestTest = 106.4209285\n",
      "bestIteration = 54\n",
      "\n",
      "Shrink model to first 55 iterations.\n",
      "=== FOLD 72 ===\n",
      "0:\tlearn: 468.0902833\ttest: 471.7954284\tbest: 471.7954284 (0)\ttotal: 1.45ms\tremaining: 2.18s\n",
      "250:\tlearn: 164.5770417\ttest: 179.0691894\tbest: 174.7276675 (125)\ttotal: 349ms\tremaining: 1.74s\n"
     ]
    },
    {
     "name": "stderr",
     "output_type": "stream",
     "text": [
      "72it [00:49,  1.63it/s]"
     ]
    },
    {
     "name": "stdout",
     "output_type": "stream",
     "text": [
      "500:\tlearn: 146.0092394\ttest: 170.0018818\tbest: 165.8376402 (352)\ttotal: 710ms\tremaining: 1.42s\n",
      "Stopped by overfitting detector  (200 iterations wait)\n",
      "\n",
      "bestTest = 165.8376402\n",
      "bestIteration = 352\n",
      "\n",
      "Shrink model to first 353 iterations.\n",
      "=== FOLD 73 ===\n",
      "0:\tlearn: 475.5628472\ttest: 334.7381795\tbest: 334.7381795 (0)\ttotal: 1.78ms\tremaining: 2.67s\n"
     ]
    },
    {
     "name": "stderr",
     "output_type": "stream",
     "text": [
      "73it [00:49,  1.76it/s]"
     ]
    },
    {
     "name": "stdout",
     "output_type": "stream",
     "text": [
      "250:\tlearn: 161.3747370\ttest: 111.3925395\tbest: 102.4156366 (91)\ttotal: 352ms\tremaining: 1.75s\n",
      "Stopped by overfitting detector  (200 iterations wait)\n",
      "\n",
      "bestTest = 102.4156366\n",
      "bestIteration = 91\n",
      "\n",
      "Shrink model to first 92 iterations.\n",
      "=== FOLD 74 ===\n",
      "0:\tlearn: 467.3892888\ttest: 464.5710604\tbest: 464.5710604 (0)\ttotal: 1.5ms\tremaining: 2.25s\n"
     ]
    },
    {
     "name": "stderr",
     "output_type": "stream",
     "text": [
      "74it [00:50,  1.87it/s]"
     ]
    },
    {
     "name": "stdout",
     "output_type": "stream",
     "text": [
      "250:\tlearn: 167.8099414\ttest: 158.2405218\tbest: 150.8440888 (70)\ttotal: 371ms\tremaining: 1.84s\n",
      "Stopped by overfitting detector  (200 iterations wait)\n",
      "\n",
      "bestTest = 150.8440888\n",
      "bestIteration = 70\n",
      "\n",
      "Shrink model to first 71 iterations.\n",
      "=== FOLD 75 ===\n",
      "0:\tlearn: 473.0771289\ttest: 469.1616881\tbest: 469.1616881 (0)\ttotal: 2.02ms\tremaining: 3.03s\n"
     ]
    },
    {
     "name": "stderr",
     "output_type": "stream",
     "text": [
      "75it [00:50,  1.95it/s]"
     ]
    },
    {
     "name": "stdout",
     "output_type": "stream",
     "text": [
      "250:\tlearn: 162.7405686\ttest: 242.0447006\tbest: 227.9813132 (93)\ttotal: 350ms\tremaining: 1.74s\n",
      "Stopped by overfitting detector  (200 iterations wait)\n",
      "\n",
      "bestTest = 227.9813132\n",
      "bestIteration = 93\n",
      "\n",
      "Shrink model to first 94 iterations.\n",
      "=== FOLD 76 ===\n",
      "0:\tlearn: 475.3601693\ttest: 383.1582248\tbest: 383.1582248 (0)\ttotal: 1.93ms\tremaining: 2.89s\n",
      "250:\tlearn: 162.0968184\ttest: 102.5635296\tbest: 89.9018713 (177)\ttotal: 348ms\tremaining: 1.73s\n",
      "Stopped by overfitting detector  (200 iterations wait)\n",
      "\n",
      "bestTest = 89.90187128\n",
      "bestIteration = 177\n",
      "\n",
      "Shrink model to first 178 iterations.\n"
     ]
    },
    {
     "name": "stderr",
     "output_type": "stream",
     "text": [
      "76it [00:51,  1.86it/s]"
     ]
    },
    {
     "name": "stdout",
     "output_type": "stream",
     "text": [
      "=== FOLD 77 ===\n",
      "0:\tlearn: 473.7505921\ttest: 455.5500389\tbest: 455.5500389 (0)\ttotal: 1.91ms\tremaining: 2.86s\n"
     ]
    },
    {
     "name": "stderr",
     "output_type": "stream",
     "text": [
      "77it [00:51,  2.00it/s]"
     ]
    },
    {
     "name": "stdout",
     "output_type": "stream",
     "text": [
      "250:\tlearn: 157.3672343\ttest: 175.1234606\tbest: 158.9448095 (71)\ttotal: 348ms\tremaining: 1.73s\n",
      "Stopped by overfitting detector  (200 iterations wait)\n",
      "\n",
      "bestTest = 158.9448095\n",
      "bestIteration = 71\n",
      "\n",
      "Shrink model to first 72 iterations.\n",
      "=== FOLD 78 ===\n",
      "0:\tlearn: 468.4269727\ttest: 412.7866092\tbest: 412.7866092 (0)\ttotal: 1.55ms\tremaining: 2.33s\n",
      "250:\tlearn: 154.7194854\ttest: 184.8499835\tbest: 179.5277294 (176)\ttotal: 357ms\tremaining: 1.77s\n",
      "Stopped by overfitting detector  (200 iterations wait)\n",
      "\n",
      "bestTest = 179.5277294\n",
      "bestIteration = 176\n",
      "\n",
      "Shrink model to first 177 iterations.\n"
     ]
    },
    {
     "name": "stderr",
     "output_type": "stream",
     "text": [
      "78it [00:52,  1.90it/s]"
     ]
    },
    {
     "name": "stdout",
     "output_type": "stream",
     "text": [
      "=== FOLD 79 ===\n",
      "0:\tlearn: 472.4088765\ttest: 508.1974962\tbest: 508.1974962 (0)\ttotal: 1.79ms\tremaining: 2.68s\n"
     ]
    },
    {
     "name": "stderr",
     "output_type": "stream",
     "text": [
      "79it [00:52,  2.01it/s]"
     ]
    },
    {
     "name": "stdout",
     "output_type": "stream",
     "text": [
      "250:\tlearn: 156.4542440\ttest: 176.6205645\tbest: 163.9359556 (68)\ttotal: 349ms\tremaining: 1.74s\n",
      "Stopped by overfitting detector  (200 iterations wait)\n",
      "\n",
      "bestTest = 163.9359556\n",
      "bestIteration = 68\n",
      "\n",
      "Shrink model to first 69 iterations.\n",
      "=== FOLD 80 ===\n",
      "0:\tlearn: 473.0729616\ttest: 491.5006489\tbest: 491.5006489 (0)\ttotal: 1.97ms\tremaining: 2.95s\n"
     ]
    },
    {
     "name": "stderr",
     "output_type": "stream",
     "text": [
      "80it [00:53,  2.09it/s]"
     ]
    },
    {
     "name": "stdout",
     "output_type": "stream",
     "text": [
      "250:\tlearn: 165.4920633\ttest: 186.9263794\tbest: 172.6306878 (71)\ttotal: 351ms\tremaining: 1.75s\n",
      "Stopped by overfitting detector  (200 iterations wait)\n",
      "\n",
      "bestTest = 172.6306878\n",
      "bestIteration = 71\n",
      "\n",
      "Shrink model to first 72 iterations.\n",
      "=== FOLD 81 ===\n",
      "0:\tlearn: 468.0186960\ttest: 464.4041466\tbest: 464.4041466 (0)\ttotal: 1.57ms\tremaining: 2.35s\n"
     ]
    },
    {
     "name": "stderr",
     "output_type": "stream",
     "text": [
      "81it [00:53,  2.14it/s]"
     ]
    },
    {
     "name": "stdout",
     "output_type": "stream",
     "text": [
      "250:\tlearn: 155.1184832\ttest: 192.0280611\tbest: 166.8526812 (55)\ttotal: 376ms\tremaining: 1.87s\n",
      "Stopped by overfitting detector  (200 iterations wait)\n",
      "\n",
      "bestTest = 166.8526812\n",
      "bestIteration = 55\n",
      "\n",
      "Shrink model to first 56 iterations.\n",
      "=== FOLD 82 ===\n",
      "0:\tlearn: 475.0096825\ttest: 380.2739381\tbest: 380.2739381 (0)\ttotal: 1.81ms\tremaining: 2.72s\n",
      "250:\tlearn: 158.6798467\ttest: 198.8806529\tbest: 196.7560768 (228)\ttotal: 376ms\tremaining: 1.87s\n",
      "500:\tlearn: 141.8745261\ttest: 192.2225962\tbest: 192.2225962 (500)\ttotal: 732ms\tremaining: 1.46s\n",
      "750:\tlearn: 130.1062390\ttest: 188.9738255\tbest: 187.8633772 (712)\ttotal: 1.09s\tremaining: 1.09s\n"
     ]
    },
    {
     "name": "stderr",
     "output_type": "stream",
     "text": [
      "82it [00:55,  1.27it/s]"
     ]
    },
    {
     "name": "stdout",
     "output_type": "stream",
     "text": [
      "Stopped by overfitting detector  (200 iterations wait)\n",
      "\n",
      "bestTest = 186.5173011\n",
      "bestIteration = 783\n",
      "\n",
      "Shrink model to first 784 iterations.\n",
      "=== FOLD 83 ===\n",
      "0:\tlearn: 463.3056114\ttest: 705.0132594\tbest: 705.0132594 (0)\ttotal: 1.57ms\tremaining: 2.36s\n",
      "250:\tlearn: 167.5520798\ttest: 239.8522525\tbest: 236.7294074 (181)\ttotal: 376ms\tremaining: 1.87s\n",
      "Stopped by overfitting detector  (200 iterations wait)\n",
      "\n",
      "bestTest = 236.7294074\n",
      "bestIteration = 181\n",
      "\n",
      "Shrink model to first 182 iterations.\n"
     ]
    },
    {
     "name": "stderr",
     "output_type": "stream",
     "text": [
      "83it [00:55,  1.35it/s]"
     ]
    },
    {
     "name": "stdout",
     "output_type": "stream",
     "text": [
      "=== FOLD 84 ===\n",
      "0:\tlearn: 473.8410293\ttest: 426.9162131\tbest: 426.9162131 (0)\ttotal: 1.82ms\tremaining: 2.72s\n"
     ]
    },
    {
     "name": "stderr",
     "output_type": "stream",
     "text": [
      "84it [00:56,  1.55it/s]"
     ]
    },
    {
     "name": "stdout",
     "output_type": "stream",
     "text": [
      "250:\tlearn: 162.0316522\ttest: 185.8289816\tbest: 175.4943420 (63)\ttotal: 353ms\tremaining: 1.75s\n",
      "Stopped by overfitting detector  (200 iterations wait)\n",
      "\n",
      "bestTest = 175.494342\n",
      "bestIteration = 63\n",
      "\n",
      "Shrink model to first 64 iterations.\n",
      "=== FOLD 85 ===\n",
      "0:\tlearn: 475.7561694\ttest: 320.1115941\tbest: 320.1115941 (0)\ttotal: 1.76ms\tremaining: 2.63s\n"
     ]
    },
    {
     "name": "stderr",
     "output_type": "stream",
     "text": [
      "85it [00:56,  1.71it/s]"
     ]
    },
    {
     "name": "stdout",
     "output_type": "stream",
     "text": [
      "250:\tlearn: 159.0807555\ttest: 162.0615909\tbest: 149.8667269 (71)\ttotal: 360ms\tremaining: 1.79s\n",
      "Stopped by overfitting detector  (200 iterations wait)\n",
      "\n",
      "bestTest = 149.8667269\n",
      "bestIteration = 71\n",
      "\n",
      "Shrink model to first 72 iterations.\n",
      "=== FOLD 86 ===\n",
      "0:\tlearn: 468.7673508\ttest: 404.3111264\tbest: 404.3111264 (0)\ttotal: 1.5ms\tremaining: 2.25s\n",
      "250:\tlearn: 158.0924984\ttest: 250.3432092\tbest: 246.0108063 (177)\ttotal: 339ms\tremaining: 1.69s\n",
      "Stopped by overfitting detector  (200 iterations wait)\n",
      "\n",
      "bestTest = 246.0108063\n",
      "bestIteration = 177\n",
      "\n",
      "Shrink model to first 178 iterations.\n"
     ]
    },
    {
     "name": "stderr",
     "output_type": "stream",
     "text": [
      "86it [00:57,  1.72it/s]"
     ]
    },
    {
     "name": "stdout",
     "output_type": "stream",
     "text": [
      "=== FOLD 87 ===\n",
      "0:\tlearn: 468.0467007\ttest: 758.1471645\tbest: 758.1471645 (0)\ttotal: 1.94ms\tremaining: 2.9s\n"
     ]
    },
    {
     "name": "stderr",
     "output_type": "stream",
     "text": [
      "87it [00:57,  1.76it/s]"
     ]
    },
    {
     "name": "stdout",
     "output_type": "stream",
     "text": [
      "250:\tlearn: 159.5309078\ttest: 221.2213070\tbest: 212.5016854 (144)\ttotal: 350ms\tremaining: 1.74s\n",
      "Stopped by overfitting detector  (200 iterations wait)\n",
      "\n",
      "bestTest = 212.5016854\n",
      "bestIteration = 144\n",
      "\n",
      "Shrink model to first 145 iterations.\n",
      "=== FOLD 88 ===\n",
      "0:\tlearn: 465.2057788\ttest: 563.1655674\tbest: 563.1655674 (0)\ttotal: 1.52ms\tremaining: 2.27s\n"
     ]
    },
    {
     "name": "stderr",
     "output_type": "stream",
     "text": [
      "88it [00:58,  1.82it/s]"
     ]
    },
    {
     "name": "stdout",
     "output_type": "stream",
     "text": [
      "250:\tlearn: 158.2209967\ttest: 146.9598848\tbest: 129.4301352 (91)\ttotal: 388ms\tremaining: 1.93s\n",
      "Stopped by overfitting detector  (200 iterations wait)\n",
      "\n",
      "bestTest = 129.4301352\n",
      "bestIteration = 91\n",
      "\n",
      "Shrink model to first 92 iterations.\n",
      "=== FOLD 89 ===\n",
      "0:\tlearn: 468.8191373\ttest: 375.5293416\tbest: 375.5293416 (0)\ttotal: 1.45ms\tremaining: 2.17s\n"
     ]
    },
    {
     "name": "stderr",
     "output_type": "stream",
     "text": [
      "89it [00:58,  1.97it/s]"
     ]
    },
    {
     "name": "stdout",
     "output_type": "stream",
     "text": [
      "250:\tlearn: 160.5687521\ttest: 148.8365523\tbest: 124.0302934 (65)\ttotal: 340ms\tremaining: 1.69s\n",
      "Stopped by overfitting detector  (200 iterations wait)\n",
      "\n",
      "bestTest = 124.0302934\n",
      "bestIteration = 65\n",
      "\n",
      "Shrink model to first 66 iterations.\n",
      "=== FOLD 90 ===\n",
      "0:\tlearn: 474.7054723\ttest: 383.0013989\tbest: 383.0013989 (0)\ttotal: 2.11ms\tremaining: 3.17s\n",
      "250:\tlearn: 158.8413035\ttest: 108.1457512\tbest: 104.5052409 (210)\ttotal: 338ms\tremaining: 1.68s\n"
     ]
    },
    {
     "name": "stderr",
     "output_type": "stream",
     "text": [
      "90it [00:59,  1.83it/s]"
     ]
    },
    {
     "name": "stdout",
     "output_type": "stream",
     "text": [
      "Stopped by overfitting detector  (200 iterations wait)\n",
      "\n",
      "bestTest = 104.5052409\n",
      "bestIteration = 210\n",
      "\n",
      "Shrink model to first 211 iterations.\n",
      "=== FOLD 91 ===\n",
      "0:\tlearn: 469.2829015\ttest: 457.3845691\tbest: 457.3845691 (0)\ttotal: 1.48ms\tremaining: 2.22s\n",
      "250:\tlearn: 163.4143915\ttest: 100.9562370\tbest: 99.1163457 (231)\ttotal: 352ms\tremaining: 1.75s\n"
     ]
    },
    {
     "name": "stderr",
     "output_type": "stream",
     "text": [
      "91it [01:00,  1.64it/s]"
     ]
    },
    {
     "name": "stdout",
     "output_type": "stream",
     "text": [
      "Stopped by overfitting detector  (200 iterations wait)\n",
      "\n",
      "bestTest = 95.51376966\n",
      "bestIteration = 289\n",
      "\n",
      "Shrink model to first 290 iterations.\n",
      "=== FOLD 92 ===\n",
      "0:\tlearn: 474.8633433\ttest: 390.9929392\tbest: 390.9929392 (0)\ttotal: 2.02ms\tremaining: 3.02s\n"
     ]
    },
    {
     "name": "stderr",
     "output_type": "stream",
     "text": [
      "92it [01:00,  1.74it/s]"
     ]
    },
    {
     "name": "stdout",
     "output_type": "stream",
     "text": [
      "250:\tlearn: 158.0222167\ttest: 144.8101212\tbest: 136.9928038 (118)\ttotal: 346ms\tremaining: 1.72s\n",
      "Stopped by overfitting detector  (200 iterations wait)\n",
      "\n",
      "bestTest = 136.9928038\n",
      "bestIteration = 118\n",
      "\n",
      "Shrink model to first 119 iterations.\n",
      "=== FOLD 93 ===\n",
      "0:\tlearn: 475.0630012\ttest: 361.6118084\tbest: 361.6118084 (0)\ttotal: 1.88ms\tremaining: 2.82s\n",
      "250:\tlearn: 157.5026971\ttest: 174.7122210\tbest: 168.6689650 (160)\ttotal: 342ms\tremaining: 1.7s\n",
      "500:\tlearn: 140.8479672\ttest: 168.4824066\tbest: 167.9677706 (340)\ttotal: 689ms\tremaining: 1.37s\n"
     ]
    },
    {
     "name": "stderr",
     "output_type": "stream",
     "text": [
      "93it [01:01,  1.37it/s]"
     ]
    },
    {
     "name": "stdout",
     "output_type": "stream",
     "text": [
      "Stopped by overfitting detector  (200 iterations wait)\n",
      "\n",
      "bestTest = 166.3980872\n",
      "bestIteration = 527\n",
      "\n",
      "Shrink model to first 528 iterations.\n",
      "=== FOLD 94 ===\n",
      "0:\tlearn: 468.6069798\ttest: 450.0932480\tbest: 450.0932480 (0)\ttotal: 1.45ms\tremaining: 2.17s\n"
     ]
    },
    {
     "name": "stderr",
     "output_type": "stream",
     "text": [
      "94it [01:02,  1.57it/s]"
     ]
    },
    {
     "name": "stdout",
     "output_type": "stream",
     "text": [
      "250:\tlearn: 161.5956323\ttest: 101.6021092\tbest: 100.6399138 (64)\ttotal: 352ms\tremaining: 1.75s\n",
      "Stopped by overfitting detector  (200 iterations wait)\n",
      "\n",
      "bestTest = 100.6399138\n",
      "bestIteration = 64\n",
      "\n",
      "Shrink model to first 65 iterations.\n",
      "=== FOLD 95 ===\n",
      "0:\tlearn: 463.9697303\ttest: 770.7246005\tbest: 770.7246005 (0)\ttotal: 1.66ms\tremaining: 2.48s\n",
      "250:\tlearn: 163.1223934\ttest: 387.1256176\tbest: 385.6874951 (242)\ttotal: 350ms\tremaining: 1.74s\n",
      "500:\tlearn: 144.3209080\ttest: 367.1547949\tbest: 366.6736118 (490)\ttotal: 704ms\tremaining: 1.4s\n"
     ]
    },
    {
     "name": "stderr",
     "output_type": "stream",
     "text": [
      "95it [01:03,  1.31it/s]"
     ]
    },
    {
     "name": "stdout",
     "output_type": "stream",
     "text": [
      "Stopped by overfitting detector  (200 iterations wait)\n",
      "\n",
      "bestTest = 366.6736118\n",
      "bestIteration = 490\n",
      "\n",
      "Shrink model to first 491 iterations.\n",
      "=== FOLD 96 ===\n",
      "0:\tlearn: 472.9768002\ttest: 487.2444017\tbest: 487.2444017 (0)\ttotal: 1.8ms\tremaining: 2.7s\n"
     ]
    },
    {
     "name": "stderr",
     "output_type": "stream",
     "text": [
      "96it [01:03,  1.48it/s]"
     ]
    },
    {
     "name": "stdout",
     "output_type": "stream",
     "text": [
      "250:\tlearn: 157.1651165\ttest: 253.1111486\tbest: 242.6811253 (107)\ttotal: 341ms\tremaining: 1.7s\n",
      "Stopped by overfitting detector  (200 iterations wait)\n",
      "\n",
      "bestTest = 242.6811253\n",
      "bestIteration = 107\n",
      "\n",
      "Shrink model to first 108 iterations.\n",
      "=== FOLD 97 ===\n",
      "0:\tlearn: 468.1471666\ttest: 768.9844938\tbest: 768.9844938 (0)\ttotal: 1.85ms\tremaining: 2.78s\n"
     ]
    },
    {
     "name": "stderr",
     "output_type": "stream",
     "text": [
      "97it [01:04,  1.56it/s]"
     ]
    },
    {
     "name": "stdout",
     "output_type": "stream",
     "text": [
      "250:\tlearn: 160.8913591\ttest: 306.3823496\tbest: 295.8754203 (149)\ttotal: 350ms\tremaining: 1.74s\n",
      "Stopped by overfitting detector  (200 iterations wait)\n",
      "\n",
      "bestTest = 295.8754203\n",
      "bestIteration = 149\n",
      "\n",
      "Shrink model to first 150 iterations.\n",
      "=== FOLD 98 ===\n",
      "0:\tlearn: 469.5064253\ttest: 669.8749852\tbest: 669.8749852 (0)\ttotal: 2.11ms\tremaining: 3.16s\n"
     ]
    },
    {
     "name": "stderr",
     "output_type": "stream",
     "text": [
      "98it [01:04,  1.65it/s]"
     ]
    },
    {
     "name": "stdout",
     "output_type": "stream",
     "text": [
      "250:\tlearn: 158.0932718\ttest: 362.4117723\tbest: 348.7616151 (133)\ttotal: 350ms\tremaining: 1.74s\n",
      "Stopped by overfitting detector  (200 iterations wait)\n",
      "\n",
      "bestTest = 348.7616151\n",
      "bestIteration = 133\n",
      "\n",
      "Shrink model to first 134 iterations.\n",
      "=== FOLD 99 ===\n",
      "0:\tlearn: 469.9570684\ttest: 344.8380065\tbest: 344.8380065 (0)\ttotal: 1.56ms\tremaining: 2.35s\n",
      "250:\tlearn: 161.7786948\ttest: 87.0617021\tbest: 82.9316239 (176)\ttotal: 371ms\tremaining: 1.85s\n",
      "Stopped by overfitting detector  (200 iterations wait)\n",
      "\n",
      "bestTest = 82.93162392\n",
      "bestIteration = 176\n",
      "\n",
      "Shrink model to first 177 iterations.\n"
     ]
    },
    {
     "name": "stderr",
     "output_type": "stream",
     "text": [
      "99it [01:05,  1.65it/s]"
     ]
    },
    {
     "name": "stdout",
     "output_type": "stream",
     "text": [
      "=== FOLD 100 ===\n",
      "0:\tlearn: 474.1986060\ttest: 404.6392725\tbest: 404.6392725 (0)\ttotal: 1.81ms\tremaining: 2.71s\n"
     ]
    },
    {
     "name": "stderr",
     "output_type": "stream",
     "text": [
      "100it [01:05,  1.52it/s]"
     ]
    },
    {
     "name": "stdout",
     "output_type": "stream",
     "text": [
      "250:\tlearn: 164.4408445\ttest: 177.2570605\tbest: 165.5944357 (51)\ttotal: 342ms\tremaining: 1.7s\n",
      "Stopped by overfitting detector  (200 iterations wait)\n",
      "\n",
      "bestTest = 165.5944357\n",
      "bestIteration = 51\n",
      "\n",
      "Shrink model to first 52 iterations.\n"
     ]
    },
    {
     "name": "stderr",
     "output_type": "stream",
     "text": [
      "\n"
     ]
    },
    {
     "data": {
      "text/plain": [
       "175.2835665566453"
      ]
     },
     "execution_count": 8,
     "metadata": {},
     "output_type": "execute_result"
    }
   ],
   "source": [
    "n_splits = 100\n",
    "kf = KFold(n_splits=n_splits, shuffle=True, random_state=seed)\n",
    "val_scores = list()\n",
    "test_preds = np.zeros((X_test.shape[0], n_splits))\n",
    "\n",
    "for i, (train_index, val_index) in enumerate(tqdm(kf.split(X))):\n",
    "    print(f\"=== FOLD {i + 1} ===\")\n",
    "\n",
    "    X_train = X.iloc[train_index]\n",
    "    X_val = X.iloc[val_index]\n",
    "    y_train = y.iloc[train_index]\n",
    "    y_val = y.iloc[val_index]\n",
    "\n",
    "    model = CatBoostRegressor(\n",
    "        iterations=1500,\n",
    "        cat_features=cat_features,\n",
    "        # text_features=[\"Subtitles\"],\n",
    "        eval_metric=\"MAE\",\n",
    "        learning_rate=0.1,\n",
    "        verbose=250,\n",
    "        early_stopping_rounds=200,\n",
    "        use_best_model=True,\n",
    "        random_seed=seed,\n",
    "        # depth=8,\n",
    "    )\n",
    "    model.fit(X_train, y_train, eval_set=(X_val, y_val))\n",
    "\n",
    "    preds = model.predict(X_val)\n",
    "    test_preds[:, i] = model.predict(X_test)\n",
    "    \n",
    "    val_scores.append(mean_absolute_error(y_val, preds))\n",
    "\n",
    "sum(val_scores) / len(val_scores)"
   ]
  },
  {
   "cell_type": "code",
   "execution_count": 9,
   "metadata": {},
   "outputs": [
    {
     "data": {
      "text/plain": [
       "(2000,)"
      ]
     },
     "execution_count": 9,
     "metadata": {},
     "output_type": "execute_result"
    }
   ],
   "source": [
    "test_preds = test_preds.mean(axis=1)\n",
    "test_preds.shape"
   ]
  },
  {
   "cell_type": "code",
   "execution_count": 10,
   "metadata": {},
   "outputs": [],
   "source": [
    "sample_submission = pd.read_csv(\"./data/youtube/youtube_sample_submission.csv\", index_col=\"id\")\n",
    "sample_submission[\"ViewCount\"] = test_preds\n",
    "sample_submission.to_csv(\"./submissions/youtube/sub6.csv\")"
   ]
  },
  {
   "cell_type": "code",
   "execution_count": null,
   "metadata": {},
   "outputs": [],
   "source": []
  },
  {
   "cell_type": "code",
   "execution_count": null,
   "metadata": {},
   "outputs": [],
   "source": []
  },
  {
   "cell_type": "code",
   "execution_count": null,
   "metadata": {},
   "outputs": [],
   "source": []
  },
  {
   "cell_type": "code",
   "execution_count": null,
   "metadata": {},
   "outputs": [],
   "source": []
  },
  {
   "cell_type": "code",
   "execution_count": null,
   "metadata": {},
   "outputs": [],
   "source": []
  },
  {
   "cell_type": "code",
   "execution_count": 3,
   "metadata": {},
   "outputs": [],
   "source": [
    "# min_date = pd.to_datetime(datetime.datetime.strptime('01012010', \"%d%m%Y\").date())\n",
    "# df[\"PublishDate\"] = df[\"PublishDate\"].apply(lambda x: datetime.datetime.strptime(x[:-6], \"%Y-%m-%dT%H:%M:%S\"))\n",
    "# df[\"PublishDateDays\"] = (df[\"PublishDate\"] - min_date).dt.days\n",
    "# df[\"PublishDateYear\"] = df[\"PublishDate\"].dt.year\n",
    "# df[\"PublishDateMonth\"] = df[\"PublishDate\"].dt.month\n",
    "# df[\"PublishDateDay\"] = df[\"PublishDate\"].dt.day"
   ]
  },
  {
   "cell_type": "code",
   "execution_count": 4,
   "metadata": {},
   "outputs": [],
   "source": [
    "# df_test[\"PublishDate\"] = df_test[\"PublishDate\"].apply(lambda x: datetime.datetime.strptime(x[:-6], \"%Y-%m-%dT%H:%M:%S\"))\n",
    "# df_test[\"PublishDateDays\"] = (df_test[\"PublishDate\"] - min_date).dt.days\n",
    "# df_test[\"PublishDateYear\"] = df_test[\"PublishDate\"].dt.year\n",
    "# df_test[\"PublishDateMonth\"] = df_test[\"PublishDate\"].dt.month\n",
    "# df_test[\"PublishDateDay\"] = df_test[\"PublishDate\"].dt.day"
   ]
  },
  {
   "cell_type": "code",
   "execution_count": 5,
   "metadata": {},
   "outputs": [
    {
     "data": {
      "text/plain": [
       "Channel             0\n",
       "Subtitles           0\n",
       "PublishDate         0\n",
       "Category            0\n",
       "ViewCount           0\n",
       "PublishDateDays     0\n",
       "PublishDateYear     0\n",
       "PublishDateMonth    0\n",
       "PublishDateDay      0\n",
       "dtype: int64"
      ]
     },
     "execution_count": 5,
     "metadata": {},
     "output_type": "execute_result"
    }
   ],
   "source": [
    "# df.isna().sum()"
   ]
  },
  {
   "cell_type": "code",
   "execution_count": 6,
   "metadata": {},
   "outputs": [],
   "source": [
    "# X = df.drop(columns=[\"ViewCount\", \"Subtitles\"])\n",
    "# y = df[\"ViewCount\"]"
   ]
  },
  {
   "cell_type": "code",
   "execution_count": 7,
   "metadata": {},
   "outputs": [],
   "source": [
    "# X_test = df_test.drop(columns=[\"Subtitles\"])"
   ]
  },
  {
   "cell_type": "code",
   "execution_count": 8,
   "metadata": {},
   "outputs": [
    {
     "data": {
      "text/plain": [
       "['Channel', 'Category']"
      ]
     },
     "execution_count": 8,
     "metadata": {},
     "output_type": "execute_result"
    }
   ],
   "source": [
    "# cat_features = list()\n",
    "\n",
    "# for col_name, dtype in X.dtypes.to_dict().items():\n",
    "#     if dtype == \"object\" and col_name != \"Subtitles\":\n",
    "#         cat_features.append(col_name)\n",
    "\n",
    "# cat_features"
   ]
  },
  {
   "cell_type": "code",
   "execution_count": 9,
   "metadata": {},
   "outputs": [
    {
     "name": "stderr",
     "output_type": "stream",
     "text": [
      "0it [00:00, ?it/s]"
     ]
    },
    {
     "name": "stdout",
     "output_type": "stream",
     "text": [
      "=== FOLD 1 ===\n",
      "Learning rate set to 0.099023\n",
      "0:\tlearn: 474.6785850\ttest: 455.6021404\tbest: 455.6021404 (0)\ttotal: 50.6ms\tremaining: 25.3s\n",
      "250:\tlearn: 155.7788338\ttest: 201.1125630\tbest: 201.0719664 (249)\ttotal: 367ms\tremaining: 364ms\n"
     ]
    },
    {
     "name": "stderr",
     "output_type": "stream",
     "text": [
      "1it [00:00,  1.27it/s]"
     ]
    },
    {
     "name": "stdout",
     "output_type": "stream",
     "text": [
      "499:\tlearn: 133.6669297\ttest: 203.8270172\tbest: 199.9057328 (361)\ttotal: 702ms\tremaining: 0us\n",
      "\n",
      "bestTest = 199.9057328\n",
      "bestIteration = 361\n",
      "\n",
      "Shrink model to first 362 iterations.\n",
      "=== FOLD 2 ===\n",
      "Learning rate set to 0.099023\n",
      "0:\tlearn: 454.7121915\ttest: 512.4080574\tbest: 512.4080574 (0)\ttotal: 1.77ms\tremaining: 886ms\n"
     ]
    },
    {
     "name": "stderr",
     "output_type": "stream",
     "text": [
      "2it [00:01,  1.79it/s]"
     ]
    },
    {
     "name": "stdout",
     "output_type": "stream",
     "text": [
      "250:\tlearn: 158.4131262\ttest: 216.7476868\tbest: 206.1990357 (71)\ttotal: 318ms\tremaining: 316ms\n",
      "Stopped by overfitting detector  (200 iterations wait)\n",
      "\n",
      "bestTest = 206.1990357\n",
      "bestIteration = 71\n",
      "\n",
      "Shrink model to first 72 iterations.\n",
      "=== FOLD 3 ===\n",
      "Learning rate set to 0.099023\n",
      "0:\tlearn: 478.4011859\ttest: 452.5670566\tbest: 452.5670566 (0)\ttotal: 1.85ms\tremaining: 924ms\n"
     ]
    },
    {
     "name": "stderr",
     "output_type": "stream",
     "text": [
      "3it [00:01,  2.05it/s]"
     ]
    },
    {
     "name": "stdout",
     "output_type": "stream",
     "text": [
      "250:\tlearn: 153.4036972\ttest: 187.7742600\tbest: 180.3753788 (77)\ttotal: 317ms\tremaining: 314ms\n",
      "Stopped by overfitting detector  (200 iterations wait)\n",
      "\n",
      "bestTest = 180.3753788\n",
      "bestIteration = 77\n",
      "\n",
      "Shrink model to first 78 iterations.\n",
      "=== FOLD 4 ===\n",
      "Learning rate set to 0.099023\n",
      "0:\tlearn: 487.4133552\ttest: 450.2770043\tbest: 450.2770043 (0)\ttotal: 1.67ms\tremaining: 835ms\n"
     ]
    },
    {
     "name": "stderr",
     "output_type": "stream",
     "text": [
      "4it [00:02,  2.04it/s]"
     ]
    },
    {
     "name": "stdout",
     "output_type": "stream",
     "text": [
      "250:\tlearn: 167.2952062\ttest: 178.5031845\tbest: 175.0625532 (142)\ttotal: 312ms\tremaining: 310ms\n",
      "Stopped by overfitting detector  (200 iterations wait)\n",
      "\n",
      "bestTest = 175.0625532\n",
      "bestIteration = 142\n",
      "\n",
      "Shrink model to first 143 iterations.\n",
      "=== FOLD 5 ===\n",
      "Learning rate set to 0.099027\n",
      "0:\tlearn: 457.6805473\ttest: 487.2536470\tbest: 487.2536470 (0)\ttotal: 1.57ms\tremaining: 784ms\n"
     ]
    },
    {
     "name": "stderr",
     "output_type": "stream",
     "text": [
      "5it [00:02,  2.00it/s]"
     ]
    },
    {
     "name": "stdout",
     "output_type": "stream",
     "text": [
      "250:\tlearn: 151.6950821\ttest: 195.0853830\tbest: 190.8870395 (89)\ttotal: 317ms\tremaining: 315ms\n",
      "Stopped by overfitting detector  (200 iterations wait)\n",
      "\n",
      "bestTest = 190.8870395\n",
      "bestIteration = 89\n",
      "\n",
      "Shrink model to first 90 iterations.\n"
     ]
    },
    {
     "name": "stderr",
     "output_type": "stream",
     "text": [
      "\n"
     ]
    },
    {
     "data": {
      "text/plain": [
       "190.4859490048181"
      ]
     },
     "execution_count": 9,
     "metadata": {},
     "output_type": "execute_result"
    }
   ],
   "source": [
    "# n_splits = 5\n",
    "# kf = KFold(n_splits=n_splits, shuffle=True, random_state=seed)\n",
    "# val_scores = list()\n",
    "# test_preds = np.zeros((X_test.shape[0], n_splits))\n",
    "\n",
    "# for i, (train_index, val_index) in enumerate(tqdm(kf.split(X))):\n",
    "#     print(f\"=== FOLD {i + 1} ===\")\n",
    "\n",
    "#     X_train = X.iloc[train_index]\n",
    "#     X_val = X.iloc[val_index]\n",
    "#     y_train = y.iloc[train_index]\n",
    "#     y_val = y.iloc[val_index]\n",
    "\n",
    "#     model = CatBoostRegressor(\n",
    "#         iterations=500,\n",
    "#         cat_features=cat_features,\n",
    "#         # text_features=[\"Subtitles\"],\n",
    "#         eval_metric=\"MAE\",\n",
    "#         # learning_rate=0.07,\n",
    "#         verbose=250,\n",
    "#         early_stopping_rounds=200,\n",
    "#         use_best_model=True,\n",
    "#         random_seed=seed,\n",
    "#         # depth=8,\n",
    "#     )\n",
    "#     model.fit(X_train, y_train, eval_set=(X_val, y_val))\n",
    "\n",
    "#     preds = model.predict(X_val)\n",
    "#     test_preds[:, i] = model.predict(X_test)\n",
    "    \n",
    "#     val_scores.append(mean_absolute_error(y_val, preds))\n",
    "\n",
    "# sum(val_scores) / len(val_scores)"
   ]
  },
  {
   "cell_type": "code",
   "execution_count": null,
   "metadata": {},
   "outputs": [],
   "source": []
  }
 ],
 "metadata": {
  "kernelspec": {
   "display_name": ".venv",
   "language": "python",
   "name": "python3"
  },
  "language_info": {
   "codemirror_mode": {
    "name": "ipython",
    "version": 3
   },
   "file_extension": ".py",
   "mimetype": "text/x-python",
   "name": "python",
   "nbconvert_exporter": "python",
   "pygments_lexer": "ipython3",
   "version": "3.11.4"
  }
 },
 "nbformat": 4,
 "nbformat_minor": 2
}
