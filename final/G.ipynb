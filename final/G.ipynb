{
 "cells": [
  {
   "cell_type": "code",
   "execution_count": 1,
   "metadata": {},
   "outputs": [],
   "source": [
    "import pandas as pd\n",
    "import numpy as np\n",
    "\n",
    "from sklearn.model_selection import StratifiedKFold\n",
    "from sklearn.metrics import f1_score\n",
    "\n",
    "from catboost import CatBoostClassifier\n",
    "\n",
    "from tqdm import tqdm\n",
    "\n",
    "import datetime\n",
    "\n",
    "seed = 42"
   ]
  },
  {
   "cell_type": "code",
   "execution_count": 2,
   "metadata": {},
   "outputs": [],
   "source": [
    "df = pd.read_csv(\"./data/students/students_train.csv\", index_col=\"ID\", parse_dates=[\"Дата_Рождения\"])\n",
    "df_test = pd.read_csv(\"./data/students/students_test.csv\", index_col=\"ID\", parse_dates=[\"Дата_Рождения\"])"
   ]
  },
  {
   "cell_type": "code",
   "execution_count": 3,
   "metadata": {},
   "outputs": [],
   "source": [
    "min_date = pd.to_datetime(datetime.datetime.strptime('01011900', \"%d%m%Y\").date())\n",
    "df[\"year_of_birth\"] = df[\"Дата_Рождения\"].dt.year\n",
    "df[\"birth\"] = (df[\"Дата_Рождения\"] - min_date).dt.days"
   ]
  },
  {
   "cell_type": "code",
   "execution_count": 4,
   "metadata": {},
   "outputs": [],
   "source": [
    "df_test[\"year_of_birth\"] = df_test[\"Дата_Рождения\"].dt.year\n",
    "df_test[\"birth\"] = (df_test[\"Дата_Рождения\"] - min_date).dt.days"
   ]
  },
  {
   "cell_type": "code",
   "execution_count": 5,
   "metadata": {},
   "outputs": [],
   "source": [
    "df[\"Пособие\"] = df[\"Пособие\"].astype(str)\n",
    "df[\"Изучаемый_Язык\"] = df[\"Изучаемый_Язык\"].astype(str)\n",
    "df[\"Уч_Заведение\"] = df[\"Уч_Заведение\"].astype(str)\n",
    "df[\"Уч_Заведение\"] = df[\"Уч_Заведение\"].astype(str)\n",
    "df[\"Где_Находится_УЗ\"] = df[\"Где_Находится_УЗ\"].astype(str)\n",
    "df[\"Страна_ПП\"] = df[\"Страна_ПП\"].astype(str)\n",
    "df[\"Регион_ПП\"] = df[\"Регион_ПП\"].astype(str)\n",
    "df[\"Город_ПП\"] = df[\"Город_ПП\"].astype(str)\n",
    "df[\"Общежитие\"] = df[\"Общежитие\"].astype(str)\n",
    "df[\"Иностранец\"] = df[\"Иностранец\"].astype(str)\n",
    "df[\"Село\"] = df[\"Село\"].astype(str)\n",
    "df[\"Страна_Родители\"] = df[\"Страна_Родители\"].astype(str)\n",
    "df[\"Год_Окончания_УЗ\"] = df[\"Год_Окончания_УЗ\"].fillna(df[\"Год_Окончания_УЗ\"].median())\n",
    "df[\"Наличие_Матери\"] = df[\"Наличие_Матери\"].astype(str)\n",
    "df[\"Наличие_Отца\"] = df[\"Наличие_Отца\"].astype(str)\n",
    "df[\"Опекунство\"] = df[\"Опекунство\"].astype(str)\n",
    "df[\"Пол\"] = df[\"Пол\"].astype(str)"
   ]
  },
  {
   "cell_type": "code",
   "execution_count": 6,
   "metadata": {},
   "outputs": [],
   "source": [
    "df_test[\"Пособие\"] = df_test[\"Пособие\"].astype(str)\n",
    "df_test[\"Изучаемый_Язык\"] = df_test[\"Изучаемый_Язык\"].astype(str)\n",
    "df_test[\"Уч_Заведение\"] = df_test[\"Уч_Заведение\"].astype(str)\n",
    "df_test[\"Уч_Заведение\"] = df_test[\"Уч_Заведение\"].astype(str)\n",
    "df_test[\"Где_Находится_УЗ\"] = df_test[\"Где_Находится_УЗ\"].astype(str)\n",
    "df_test[\"Страна_ПП\"] = df_test[\"Страна_ПП\"].astype(str)\n",
    "df_test[\"Регион_ПП\"] = df_test[\"Регион_ПП\"].astype(str)\n",
    "df_test[\"Город_ПП\"] = df_test[\"Город_ПП\"].astype(str)\n",
    "df_test[\"Общежитие\"] = df_test[\"Общежитие\"].astype(str)\n",
    "df_test[\"Иностранец\"] = df_test[\"Иностранец\"].astype(str)\n",
    "df_test[\"Село\"] = df_test[\"Село\"].astype(str)\n",
    "df_test[\"Страна_Родители\"] = df_test[\"Страна_Родители\"].astype(str)\n",
    "df_test[\"Год_Окончания_УЗ\"] = df_test[\"Год_Окончания_УЗ\"].fillna(df[\"Год_Окончания_УЗ\"].median())\n",
    "df_test[\"Наличие_Матери\"] = df_test[\"Наличие_Матери\"].astype(str)\n",
    "df_test[\"Наличие_Отца\"] = df_test[\"Наличие_Отца\"].astype(str)\n",
    "df_test[\"Опекунство\"] = df_test[\"Опекунство\"].astype(str)\n",
    "df_test[\"Пол\"] = df_test[\"Пол\"].astype(str)"
   ]
  },
  {
   "cell_type": "code",
   "execution_count": 7,
   "metadata": {},
   "outputs": [
    {
     "data": {
      "text/plain": [
       "Код_группы          0\n",
       "Год_Поступления     0\n",
       "Пол                 0\n",
       "Основания           0\n",
       "Изучаемый_Язык      0\n",
       "Дата_Рождения       0\n",
       "Уч_Заведение        0\n",
       "Где_Находится_УЗ    0\n",
       "Год_Окончания_УЗ    0\n",
       "Пособие             0\n",
       "Страна_ПП           0\n",
       "Регион_ПП           0\n",
       "Город_ПП            0\n",
       "Общежитие           0\n",
       "Наличие_Матери      0\n",
       "Наличие_Отца        0\n",
       "Страна_Родители     0\n",
       "Опекунство          0\n",
       "Село                0\n",
       "Иностранец          0\n",
       "КодФакультета       0\n",
       "СрБаллАттестата     0\n",
       "Статус              0\n",
       "year_of_birth       0\n",
       "birth               0\n",
       "dtype: int64"
      ]
     },
     "execution_count": 7,
     "metadata": {},
     "output_type": "execute_result"
    }
   ],
   "source": [
    "df.isna().sum()"
   ]
  },
  {
   "cell_type": "code",
   "execution_count": 8,
   "metadata": {},
   "outputs": [],
   "source": [
    "columns_to_drop = [\"Дата_Рождения\"]"
   ]
  },
  {
   "cell_type": "code",
   "execution_count": 9,
   "metadata": {},
   "outputs": [],
   "source": [
    "X = df.drop(columns=[\"Статус\"] + columns_to_drop)\n",
    "y = df[\"Статус\"]"
   ]
  },
  {
   "cell_type": "code",
   "execution_count": 10,
   "metadata": {},
   "outputs": [],
   "source": [
    "X_test = df_test.drop(columns=columns_to_drop)"
   ]
  },
  {
   "cell_type": "code",
   "execution_count": 11,
   "metadata": {},
   "outputs": [
    {
     "data": {
      "text/plain": [
       "['Пол',\n",
       " 'Основания',\n",
       " 'Изучаемый_Язык',\n",
       " 'Уч_Заведение',\n",
       " 'Где_Находится_УЗ',\n",
       " 'Пособие',\n",
       " 'Страна_ПП',\n",
       " 'Регион_ПП',\n",
       " 'Город_ПП',\n",
       " 'Общежитие',\n",
       " 'Наличие_Матери',\n",
       " 'Наличие_Отца',\n",
       " 'Страна_Родители',\n",
       " 'Опекунство',\n",
       " 'Село',\n",
       " 'Иностранец']"
      ]
     },
     "execution_count": 11,
     "metadata": {},
     "output_type": "execute_result"
    }
   ],
   "source": [
    "cat_features = list()\n",
    "\n",
    "for col_name, dtype in X.dtypes.to_dict().items():\n",
    "    if dtype == \"object\":\n",
    "        cat_features.append(col_name)\n",
    "\n",
    "cat_features"
   ]
  },
  {
   "cell_type": "code",
   "execution_count": 12,
   "metadata": {},
   "outputs": [
    {
     "name": "stderr",
     "output_type": "stream",
     "text": [
      "0it [00:00, ?it/s]"
     ]
    },
    {
     "name": "stdout",
     "output_type": "stream",
     "text": [
      "=== FOLD 1 ===\n",
      "0:\tlearn: 0.7346130\ttest: 0.7375691\tbest: 0.7375691 (0)\ttotal: 61.5ms\tremaining: 1m 32s\n",
      "250:\tlearn: 0.8881522\ttest: 0.8727273\tbest: 0.8741894 (243)\ttotal: 2.05s\tremaining: 10.2s\n"
     ]
    },
    {
     "name": "stderr",
     "output_type": "stream",
     "text": [
      "1it [00:04,  4.16s/it]"
     ]
    },
    {
     "name": "stdout",
     "output_type": "stream",
     "text": [
      "Stopped by overfitting detector  (200 iterations wait)\n",
      "\n",
      "bestTest = 0.8771021992\n",
      "bestIteration = 283\n",
      "\n",
      "Shrink model to first 284 iterations.\n",
      "=== FOLD 2 ===\n",
      "0:\tlearn: 0.7427386\ttest: 0.7074468\tbest: 0.7074468 (0)\ttotal: 9.65ms\tremaining: 14.5s\n",
      "250:\tlearn: 0.8859080\ttest: 0.8541935\tbest: 0.8575130 (227)\ttotal: 1.99s\tremaining: 9.9s\n",
      "500:\tlearn: 0.9088838\ttest: 0.8700129\tbest: 0.8703466 (476)\ttotal: 4s\tremaining: 7.99s\n"
     ]
    },
    {
     "name": "stderr",
     "output_type": "stream",
     "text": [
      "2it [00:10,  5.16s/it]"
     ]
    },
    {
     "name": "stdout",
     "output_type": "stream",
     "text": [
      "Stopped by overfitting detector  (200 iterations wait)\n",
      "\n",
      "bestTest = 0.8729139923\n",
      "bestIteration = 508\n",
      "\n",
      "Shrink model to first 509 iterations.\n",
      "=== FOLD 3 ===\n",
      "0:\tlearn: 0.7048887\ttest: 0.7147059\tbest: 0.7147059 (0)\ttotal: 8.07ms\tremaining: 12.1s\n",
      "250:\tlearn: 0.8897547\ttest: 0.8678756\tbest: 0.8690013 (236)\ttotal: 1.99s\tremaining: 9.89s\n",
      "500:\tlearn: 0.9109501\ttest: 0.8769231\tbest: 0.8797954 (488)\ttotal: 4.03s\tremaining: 8.04s\n"
     ]
    },
    {
     "name": "stderr",
     "output_type": "stream",
     "text": [
      "3it [00:15,  5.43s/it]"
     ]
    },
    {
     "name": "stdout",
     "output_type": "stream",
     "text": [
      "Stopped by overfitting detector  (200 iterations wait)\n",
      "\n",
      "bestTest = 0.8797953964\n",
      "bestIteration = 488\n",
      "\n",
      "Shrink model to first 489 iterations.\n",
      "=== FOLD 4 ===\n",
      "0:\tlearn: 0.7299158\ttest: 0.7359781\tbest: 0.7359781 (0)\ttotal: 9.71ms\tremaining: 14.6s\n",
      "250:\tlearn: 0.8825479\ttest: 0.8601864\tbest: 0.8632138 (234)\ttotal: 2.02s\tremaining: 10.1s\n"
     ]
    },
    {
     "name": "stderr",
     "output_type": "stream",
     "text": [
      "4it [00:19,  4.93s/it]"
     ]
    },
    {
     "name": "stdout",
     "output_type": "stream",
     "text": [
      "Stopped by overfitting detector  (200 iterations wait)\n",
      "\n",
      "bestTest = 0.8688741722\n",
      "bestIteration = 289\n",
      "\n",
      "Shrink model to first 290 iterations.\n",
      "=== FOLD 5 ===\n",
      "0:\tlearn: 0.7071197\ttest: 0.7121662\tbest: 0.7121662 (0)\ttotal: 8.65ms\tremaining: 13s\n",
      "250:\tlearn: 0.8847926\ttest: 0.8766404\tbest: 0.8781127 (243)\ttotal: 1.98s\tremaining: 9.87s\n",
      "500:\tlearn: 0.9114605\ttest: 0.8894668\tbest: 0.8894668 (500)\ttotal: 4.06s\tremaining: 8.1s\n",
      "750:\tlearn: 0.9247856\ttest: 0.8860104\tbest: 0.8923476 (579)\ttotal: 6.21s\tremaining: 6.2s\n"
     ]
    },
    {
     "name": "stderr",
     "output_type": "stream",
     "text": [
      "5it [00:26,  5.54s/it]"
     ]
    },
    {
     "name": "stdout",
     "output_type": "stream",
     "text": [
      "Stopped by overfitting detector  (200 iterations wait)\n",
      "\n",
      "bestTest = 0.8923476005\n",
      "bestIteration = 579\n",
      "\n",
      "Shrink model to first 580 iterations.\n",
      "=== FOLD 6 ===\n",
      "0:\tlearn: 0.7003865\ttest: 0.7087087\tbest: 0.7087087 (0)\ttotal: 8.27ms\tremaining: 12.4s\n",
      "250:\tlearn: 0.8890484\ttest: 0.8552972\tbest: 0.8567742 (224)\ttotal: 2.03s\tremaining: 10.1s\n",
      "500:\tlearn: 0.9128031\ttest: 0.8633461\tbest: 0.8652118 (414)\ttotal: 4.07s\tremaining: 8.12s\n",
      "750:\tlearn: 0.9304543\ttest: 0.8698980\tbest: 0.8730964 (657)\ttotal: 6.28s\tremaining: 6.26s\n",
      "1000:\tlearn: 0.9403567\ttest: 0.8727735\tbest: 0.8753181 (864)\ttotal: 8.44s\tremaining: 4.21s\n"
     ]
    },
    {
     "name": "stderr",
     "output_type": "stream",
     "text": [
      "6it [00:35,  6.79s/it]"
     ]
    },
    {
     "name": "stdout",
     "output_type": "stream",
     "text": [
      "Stopped by overfitting detector  (200 iterations wait)\n",
      "\n",
      "bestTest = 0.8753180662\n",
      "bestIteration = 864\n",
      "\n",
      "Shrink model to first 865 iterations.\n",
      "=== FOLD 7 ===\n",
      "0:\tlearn: 0.7011609\ttest: 0.7161572\tbest: 0.7161572 (0)\ttotal: 9.26ms\tremaining: 13.9s\n",
      "250:\tlearn: 0.8873543\ttest: 0.8567708\tbest: 0.8590078 (219)\ttotal: 1.97s\tremaining: 9.78s\n",
      "500:\tlearn: 0.9131113\ttest: 0.8729140\tbest: 0.8729140 (473)\ttotal: 4.1s\tremaining: 8.17s\n",
      "750:\tlearn: 0.9262330\ttest: 0.8743590\tbest: 0.8769231 (707)\ttotal: 6.25s\tremaining: 6.23s\n",
      "1000:\tlearn: 0.9392250\ttest: 0.8772379\tbest: 0.8783611 (974)\ttotal: 8.43s\tremaining: 4.2s\n",
      "1250:\tlearn: 0.9493355\ttest: 0.8772379\tbest: 0.8794872 (1149)\ttotal: 10.7s\tremaining: 2.13s\n"
     ]
    },
    {
     "name": "stderr",
     "output_type": "stream",
     "text": [
      "7it [00:47,  8.43s/it]"
     ]
    },
    {
     "name": "stdout",
     "output_type": "stream",
     "text": [
      "Stopped by overfitting detector  (200 iterations wait)\n",
      "\n",
      "bestTest = 0.8794871795\n",
      "bestIteration = 1149\n",
      "\n",
      "Shrink model to first 1150 iterations.\n",
      "=== FOLD 8 ===\n",
      "0:\tlearn: 0.7125220\ttest: 0.6960352\tbest: 0.6960352 (0)\ttotal: 8.33ms\tremaining: 12.5s\n",
      "250:\tlearn: 0.8877082\ttest: 0.8525896\tbest: 0.8537234 (238)\ttotal: 2.01s\tremaining: 10s\n",
      "500:\tlearn: 0.9116979\ttest: 0.8650066\tbest: 0.8661417 (472)\ttotal: 4.26s\tremaining: 8.5s\n",
      "750:\tlearn: 0.9264727\ttest: 0.8660598\tbest: 0.8697917 (597)\ttotal: 6.4s\tremaining: 6.38s\n"
     ]
    },
    {
     "name": "stderr",
     "output_type": "stream",
     "text": [
      "8it [00:54,  7.96s/it]"
     ]
    },
    {
     "name": "stdout",
     "output_type": "stream",
     "text": [
      "Stopped by overfitting detector  (200 iterations wait)\n",
      "\n",
      "bestTest = 0.8697916667\n",
      "bestIteration = 597\n",
      "\n",
      "Shrink model to first 598 iterations.\n",
      "=== FOLD 9 ===\n",
      "0:\tlearn: 0.7040131\ttest: 0.7099567\tbest: 0.7099567 (0)\ttotal: 8.47ms\tremaining: 12.7s\n",
      "250:\tlearn: 0.8867137\ttest: 0.8717949\tbest: 0.8754814 (228)\ttotal: 1.97s\tremaining: 9.81s\n",
      "500:\tlearn: 0.9106383\ttest: 0.8812261\tbest: 0.8852041 (453)\ttotal: 4.05s\tremaining: 8.07s\n",
      "750:\tlearn: 0.9233803\ttest: 0.8948035\tbest: 0.8959391 (709)\ttotal: 6.15s\tremaining: 6.13s\n"
     ]
    },
    {
     "name": "stderr",
     "output_type": "stream",
     "text": [
      "9it [01:02,  7.88s/it]"
     ]
    },
    {
     "name": "stdout",
     "output_type": "stream",
     "text": [
      "Stopped by overfitting detector  (200 iterations wait)\n",
      "\n",
      "bestTest = 0.8959390863\n",
      "bestIteration = 709\n",
      "\n",
      "Shrink model to first 710 iterations.\n",
      "=== FOLD 10 ===\n",
      "0:\tlearn: 0.7343606\ttest: 0.7341772\tbest: 0.7341772 (0)\ttotal: 7.58ms\tremaining: 11.4s\n",
      "250:\tlearn: 0.8862655\ttest: 0.8609272\tbest: 0.8635762 (223)\ttotal: 1.98s\tremaining: 9.84s\n",
      "500:\tlearn: 0.9103586\ttest: 0.8699080\tbest: 0.8740157 (350)\ttotal: 4.01s\tremaining: 8.01s\n"
     ]
    },
    {
     "name": "stderr",
     "output_type": "stream",
     "text": [
      "10it [01:06,  6.68s/it]"
     ]
    },
    {
     "name": "stdout",
     "output_type": "stream",
     "text": [
      "Stopped by overfitting detector  (200 iterations wait)\n",
      "\n",
      "bestTest = 0.874015748\n",
      "bestIteration = 350\n",
      "\n",
      "Shrink model to first 351 iterations.\n"
     ]
    },
    {
     "name": "stderr",
     "output_type": "stream",
     "text": [
      "\n"
     ]
    },
    {
     "data": {
      "text/plain": [
       "0.8785585107282816"
      ]
     },
     "execution_count": 12,
     "metadata": {},
     "output_type": "execute_result"
    }
   ],
   "source": [
    "n_splits = 10\n",
    "skf = StratifiedKFold(n_splits=n_splits, shuffle=True, random_state=seed)\n",
    "val_scores = list()\n",
    "test_preds = np.zeros((X_test.shape[0], n_splits))\n",
    "\n",
    "for i, (train_index, val_index) in enumerate(tqdm(skf.split(X, y))):\n",
    "    print(f\"=== FOLD {i + 1} ===\")\n",
    "\n",
    "    X_train = X.iloc[train_index]\n",
    "    X_val = X.iloc[val_index]\n",
    "    y_train = y.iloc[train_index]\n",
    "    y_val = y.iloc[val_index]\n",
    "\n",
    "    model = CatBoostClassifier(\n",
    "        iterations=1500,\n",
    "        cat_features=cat_features,\n",
    "        eval_metric=\"F1\",\n",
    "        learning_rate=0.07,\n",
    "        verbose=250,\n",
    "        early_stopping_rounds=200,\n",
    "        use_best_model=True,\n",
    "        random_seed=seed,\n",
    "        # depth=8,\n",
    "    )\n",
    "    model.fit(X_train, y_train, eval_set=(X_val, y_val))\n",
    "\n",
    "    preds = model.predict(X_val)\n",
    "    test_preds[:, i] = model.predict_proba(X_test)[:, 1]\n",
    "    \n",
    "    val_scores.append(f1_score(y_val, preds))\n",
    "\n",
    "sum(val_scores) / len(val_scores)"
   ]
  },
  {
   "cell_type": "markdown",
   "metadata": {},
   "source": [
    "0.8784538098941148"
   ]
  },
  {
   "cell_type": "code",
   "execution_count": 13,
   "metadata": {},
   "outputs": [],
   "source": [
    "test_preds = test_preds.mean(axis=1)"
   ]
  },
  {
   "cell_type": "code",
   "execution_count": 14,
   "metadata": {},
   "outputs": [],
   "source": [
    "test_preds = (test_preds > 0.5).astype(int)"
   ]
  },
  {
   "cell_type": "code",
   "execution_count": 15,
   "metadata": {},
   "outputs": [],
   "source": [
    "sample_submission = pd.read_csv(\"./data/students/students_sample_submission.csv\", index_col=\"ID\")\n",
    "sample_submission[\"Статус\"] = test_preds\n",
    "sample_submission.to_csv(\"./submissions/students/sub1.csv\")"
   ]
  },
  {
   "cell_type": "code",
   "execution_count": null,
   "metadata": {},
   "outputs": [],
   "source": []
  }
 ],
 "metadata": {
  "kernelspec": {
   "display_name": ".venv",
   "language": "python",
   "name": "python3"
  },
  "language_info": {
   "codemirror_mode": {
    "name": "ipython",
    "version": 3
   },
   "file_extension": ".py",
   "mimetype": "text/x-python",
   "name": "python",
   "nbconvert_exporter": "python",
   "pygments_lexer": "ipython3",
   "version": "3.11.4"
  }
 },
 "nbformat": 4,
 "nbformat_minor": 2
}
