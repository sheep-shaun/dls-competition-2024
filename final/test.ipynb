{
 "cells": [
  {
   "cell_type": "code",
   "execution_count": 1,
   "metadata": {},
   "outputs": [],
   "source": [
    "import numpy as np\n",
    "import random\n",
    "\n",
    "import pandas as pd\n",
    "from sklearn.metrics import mean_absolute_percentage_error\n",
    "\n",
    "import torch\n",
    "\n",
    "seed = 42\n",
    "np.random.seed(seed)\n",
    "torch.manual_seed(seed)\n",
    "torch.cuda.manual_seed(seed)\n",
    "random.seed(seed)"
   ]
  },
  {
   "cell_type": "code",
   "execution_count": 3,
   "metadata": {},
   "outputs": [
    {
     "data": {
      "text/html": [
       "<div>\n",
       "<style scoped>\n",
       "    .dataframe tbody tr th:only-of-type {\n",
       "        vertical-align: middle;\n",
       "    }\n",
       "\n",
       "    .dataframe tbody tr th {\n",
       "        vertical-align: top;\n",
       "    }\n",
       "\n",
       "    .dataframe thead th {\n",
       "        text-align: right;\n",
       "    }\n",
       "</style>\n",
       "<table border=\"1\" class=\"dataframe\">\n",
       "  <thead>\n",
       "    <tr style=\"text-align: right;\">\n",
       "      <th></th>\n",
       "      <th>x</th>\n",
       "      <th>y</th>\n",
       "    </tr>\n",
       "  </thead>\n",
       "  <tbody>\n",
       "    <tr>\n",
       "      <th>0</th>\n",
       "      <td>22429</td>\n",
       "      <td>22</td>\n",
       "    </tr>\n",
       "    <tr>\n",
       "      <th>1</th>\n",
       "      <td>69326</td>\n",
       "      <td>68</td>\n",
       "    </tr>\n",
       "    <tr>\n",
       "      <th>2</th>\n",
       "      <td>95833</td>\n",
       "      <td>94</td>\n",
       "    </tr>\n",
       "    <tr>\n",
       "      <th>3</th>\n",
       "      <td>20390</td>\n",
       "      <td>20</td>\n",
       "    </tr>\n",
       "    <tr>\n",
       "      <th>4</th>\n",
       "      <td>32624</td>\n",
       "      <td>32</td>\n",
       "    </tr>\n",
       "  </tbody>\n",
       "</table>\n",
       "</div>"
      ],
      "text/plain": [
       "       x   y\n",
       "0  22429  22\n",
       "1  69326  68\n",
       "2  95833  94\n",
       "3  20390  20\n",
       "4  32624  32"
      ]
     },
     "execution_count": 3,
     "metadata": {},
     "output_type": "execute_result"
    }
   ],
   "source": [
    "df = pd.read_csv(\"./data/data.csv\")\n",
    "df.head()"
   ]
  },
  {
   "cell_type": "code",
   "execution_count": 4,
   "metadata": {},
   "outputs": [],
   "source": [
    "X = torch.Tensor(df[\"x\"])\n",
    "Y = torch.Tensor(df[\"y\"])"
   ]
  },
  {
   "cell_type": "code",
   "execution_count": 9,
   "metadata": {},
   "outputs": [
    {
     "data": {
      "text/plain": [
       "[[0.000980873010121286,\n",
       "  0.000980873010121286,\n",
       "  0.000980873010121286,\n",
       "  0.000980873010121286,\n",
       "  0.000980873010121286,\n",
       "  0.000980873010121286,\n",
       "  0.000980873010121286,\n",
       "  0.000980873010121286,\n",
       "  0.000980873010121286,\n",
       "  0.000980873010121286,\n",
       "  0.000980873010121286,\n",
       "  0.000980873010121286,\n",
       "  0.000980873010121286,\n",
       "  0.000980873010121286,\n",
       "  0.000980873010121286,\n",
       "  0.000980873010121286,\n",
       "  0.000980873010121286,\n",
       "  0.000980873010121286,\n",
       "  0.000980873010121286,\n",
       "  0.000980873010121286,\n",
       "  0.001471309456974268,\n",
       "  0.001471309456974268,\n",
       "  0.001471309456974268,\n",
       "  0.001471309456974268,\n",
       "  0.001471309456974268,\n",
       "  0.001471309456974268,\n",
       "  0.001471309456974268,\n",
       "  0.001471309456974268,\n",
       "  0.001471309456974268,\n",
       "  0.001471309456974268,\n",
       "  0.001471309456974268,\n",
       "  0.001471309456974268,\n",
       "  0.001471309456974268,\n",
       "  0.001471309456974268,\n",
       "  0.001471309456974268,\n",
       "  0.001471309456974268,\n",
       "  0.001471309456974268,\n",
       "  0.001471309456974268,\n",
       "  0.001471309456974268,\n",
       "  0.001471309456974268,\n",
       "  0.002942618913948536,\n",
       "  0.002942618913948536,\n",
       "  0.002942618913948536,\n",
       "  0.002942618913948536,\n",
       "  0.002942618913948536,\n",
       "  0.002942618913948536,\n",
       "  0.002942618913948536,\n",
       "  0.002942618913948536,\n",
       "  0.002942618913948536,\n",
       "  0.002942618913948536,\n",
       "  0.002942618913948536,\n",
       "  0.002942618913948536,\n",
       "  0.002942618913948536,\n",
       "  0.002942618913948536,\n",
       "  0.002942618913948536,\n",
       "  0.002942618913948536,\n",
       "  0.002942618913948536,\n",
       "  0.002942618913948536,\n",
       "  0.002942618913948536,\n",
       "  0.002942618913948536]]"
      ]
     },
     "execution_count": 9,
     "metadata": {},
     "output_type": "execute_result"
    }
   ],
   "source": [
    "(Y / X).tolist()"
   ]
  },
  {
   "cell_type": "code",
   "execution_count": null,
   "metadata": {},
   "outputs": [],
   "source": []
  }
 ],
 "metadata": {
  "kernelspec": {
   "display_name": ".venv",
   "language": "python",
   "name": "python3"
  },
  "language_info": {
   "codemirror_mode": {
    "name": "ipython",
    "version": 3
   },
   "file_extension": ".py",
   "mimetype": "text/x-python",
   "name": "python",
   "nbconvert_exporter": "python",
   "pygments_lexer": "ipython3",
   "version": "3.11.4"
  }
 },
 "nbformat": 4,
 "nbformat_minor": 2
}
